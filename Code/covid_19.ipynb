{
  "nbformat": 4,
  "nbformat_minor": 0,
  "metadata": {
    "colab": {
      "name": "covid_19.ipynb",
      "provenance": []
    },
    "kernelspec": {
      "name": "python3",
      "display_name": "Python 3"
    },
    "language_info": {
      "name": "python"
    }
  },
  "cells": [
    {
      "cell_type": "markdown",
      "metadata": {
        "id": "NTQ_h0jtm1am"
      },
      "source": [
        "# Can we diagnosis Covid, Pneumonia, or Normal Chest X Rays with computer vision?\n",
        "\n",
        "I am going to use TensorFlow for this project.  \n",
        "\n",
        "## What will this notebook cover?\n",
        "I am going to go show you:\n",
        "* EDA\n",
        "* Prepreocessing\n",
        "* Model Building\n",
        "* Model Evaluation\n",
        "* Model Enhancement\n",
        "* Plotting our loss curves\n",
        "\n",
        "## Get the data for your own models!\n",
        "The data is from Kaggle.  Click [here](https://www.kaggle.com/tawsifurrahman/covid19-radiography-database) to view it!\n",
        "\n",
        "Are you ready?  Let's go."
      ]
    },
    {
      "cell_type": "markdown",
      "metadata": {
        "id": "-LmJrbvWm4Zv"
      },
      "source": [
        "#1 Import the necessary libraries"
      ]
    },
    {
      "cell_type": "code",
      "metadata": {
        "id": "8XdxJFcCmyKb"
      },
      "source": [
        "import numpy as np\n",
        "import pandas as pd\n",
        "import matplotlib.pyplot as plt\n",
        "import matplotlib.image as mpimg\n",
        "import random\n",
        "\n",
        "import tensorflow as tf\n",
        "from tensorflow.keras.preprocessing.image import ImageDataGenerator\n",
        "from keras.layers import Dense, Conv2D, Flatten, MaxPool2D\n",
        "from keras.optimizers import Adam\n",
        "\n",
        "import os\n",
        "from google.colab import drive"
      ],
      "execution_count": 1,
      "outputs": []
    },
    {
      "cell_type": "markdown",
      "metadata": {
        "id": "OTMLDL8Um-E4"
      },
      "source": [
        "#2 Import the data\n",
        "\n",
        "> Note: The data will be redownloaded every time we run this.  It is automatic, however, it is good to know :)."
      ]
    },
    {
      "cell_type": "code",
      "metadata": {
        "colab": {
          "base_uri": "https://localhost:8080/"
        },
        "id": "9nHbZ-4dm693",
        "outputId": "f8991d01-8e29-46f0-b2d4-d2781b6c0783"
      },
      "source": [
        "from google.colab import drive\n",
        "drive.mount(\"/content/gdrive/\")\n",
        "\n",
        "#This will connect to our kaggle.json document\n",
        "os.environ[\"KAGGLE_CONFIG_DIR\"] = \"/content/\"\n",
        "\n",
        "#This will download the dataset directly into the colab \n",
        "!kaggle datasets download -d tawsifurrahman/covid19-radiography-database\n",
        "\n",
        "#Navigate to the directory the data is in\n",
        "os.chdir(\"/content/COVID-19_Radiography_Dataset/\")"
      ],
      "execution_count": 21,
      "outputs": [
        {
          "output_type": "stream",
          "text": [
            "Drive already mounted at /content/gdrive/; to attempt to forcibly remount, call drive.mount(\"/content/gdrive/\", force_remount=True).\n",
            "covid19-radiography-database.zip: Skipping, found more recently modified local copy (use --force to force download)\n"
          ],
          "name": "stdout"
        }
      ]
    },
    {
      "cell_type": "markdown",
      "metadata": {
        "id": "kODwF9fVotn2"
      },
      "source": [
        "# 3.1 Explore the data\n",
        "\n",
        "* What type of data are we dealing with?\n",
        "  - Images\n",
        "* What are the shapes?\n",
        "* Are the other ways for us to learn about the data?\n",
        "  - Metadata files\n",
        "* Are there any imbalances?"
      ]
    },
    {
      "cell_type": "code",
      "metadata": {
        "id": "4-J68gYfnN8L"
      },
      "source": [
        "#Import all of the metadata files to view\n",
        "covid_metadata = pd.read_excel(\"COVID.metadata.xlsx\")\n",
        "normal_metadata = pd.read_excel(\"Normal.metadata.xlsx\")\n",
        "viral_pneumonia_metadata = pd.read_excel(\"Viral Pneumonia.metadata.xlsx\")"
      ],
      "execution_count": 24,
      "outputs": []
    },
    {
      "cell_type": "markdown",
      "metadata": {
        "id": "4cGU5L5Uu3S8"
      },
      "source": [
        "#What can we learn before we plot?\n",
        "* We can see the first few rows of data to be certain our data is in.\n",
        "  - `head()`\n",
        "* We can see the last few rows to get a sense of the size of the data\n",
        "  - `tail()`\n",
        "* We can see the description of the dataframes too.\n",
        "  - `describe()`\n",
        "* We can see the info of the dataframe.\n",
        "  - `info()`\n",
        "* We can see the column names of the dataframe.\n",
        "  - `.columns`\n",
        "* We can see the data types of the columns\n",
        "  - `dtypes()`\n",
        "* We can see if we have missing values\n",
        "  - `isna()`\n",
        "* We can see the shape\n",
        "  - `.shape`"
      ]
    },
    {
      "cell_type": "markdown",
      "metadata": {
        "id": "URV3VFHssD4o"
      },
      "source": [
        "## Let's get plot happy.\n",
        "\n",
        "I am a big visual learner.  I learn by seeing and doing.  We are going to use a lot of graphs to become one with the data!\n",
        "\n",
        "What type of graphs are we making here?\n",
        "- Correlations (to help see which columns influence the other)\n",
        "- Count plots (to help visualize the value counts)\n",
        "- Distplots (to help see the data distribution and see if we have outliers)\n",
        "- Violin plots (to help see the data distribution in a different light)\n"
      ]
    },
    {
      "cell_type": "markdown",
      "metadata": {
        "id": "kCkpGu1zsscc"
      },
      "source": [
        "### Correlations\n",
        "\n",
        "What are correlation plots?  Correlation plots are heatmaps of the data.  We can see what correlates to something else.  It is super helpful to have a feel for the data before we do any preprocessing and modeling experiments."
      ]
    },
    {
      "cell_type": "code",
      "metadata": {
        "id": "hFn78DPiudBy"
      },
      "source": [
        ""
      ],
      "execution_count": null,
      "outputs": []
    },
    {
      "cell_type": "markdown",
      "metadata": {
        "id": "m2bKdNCqs-km"
      },
      "source": [
        "### Countplots\n",
        "\n",
        "What are countplots?  In pandas, we have a function called `value_counts()` and this is a visualization of that.  What if you do not know about `value_counts()`?  Do not worry, in layman's terms it is a way to see if we have any imbalances."
      ]
    },
    {
      "cell_type": "markdown",
      "metadata": {
        "id": "CYmfqW_Etaef"
      },
      "source": [
        "## Distplots\n",
        "\n",
        "What are distplots?  Distplots show us a histogram with a line curve over it.  This will show us the distribution of the data to see how many outliers we may be dealing with."
      ]
    },
    {
      "cell_type": "markdown",
      "metadata": {
        "id": "2bfc7-MmtqQj"
      },
      "source": [
        "## Violin plots\n",
        "\n",
        "What are violin plots?  They are similar to distplots in the sense they show us the distribution of data, but we do not have the histogram style.  It provides a new visual.  As I mentioned prior, I am a visual learner so having mutliple ways to see the same thing helps."
      ]
    },
    {
      "cell_type": "markdown",
      "metadata": {
        "id": "yMJEfB62rK9_"
      },
      "source": [
        "#3.2 Explore random images"
      ]
    },
    {
      "cell_type": "code",
      "metadata": {
        "id": "Sjco8P-3pKfi"
      },
      "source": [
        "def view_random_image(target_dir, target_class):\n",
        "  \"\"\"\n",
        "  This is from a course I am taking on Zero to Mastery.\n",
        "  Here is a link: https://academy.zerotomastery.io/p/learn-tensorflow\n",
        "  \"\"\"\n",
        "  #Setup target directory\n",
        "  target_folder = target_dir + target_class\n",
        "\n",
        "  #Get a random image path\n",
        "  random_image = random.sample(os.listdir(target_folder), 1)\n",
        "\n",
        "  #Read in the image and plot it using matplotlib\n",
        "  img = mpimg.imread(target_folder + \"/\" + random_image[0])\n",
        "  plt.imshow(img)\n",
        "  plt.title(target_class)\n",
        "  plt.axis(\"off\")\n",
        "\n",
        "  print(f\"Image shape: {img.shape}\")\n",
        "\n",
        "  return img"
      ],
      "execution_count": 25,
      "outputs": []
    },
    {
      "cell_type": "code",
      "metadata": {
        "id": "eVIeK7Rap8V1"
      },
      "source": [
        ""
      ],
      "execution_count": null,
      "outputs": []
    },
    {
      "cell_type": "markdown",
      "metadata": {
        "id": "u2Oxa5cDufSC"
      },
      "source": [
        "# Preprocessing\n",
        "\n",
        "Let's make our ImageDataGenerators with no augmentation for now"
      ]
    },
    {
      "cell_type": "code",
      "metadata": {
        "id": "LWcA5GHBuka8"
      },
      "source": [
        "ImageDataGenerator"
      ],
      "execution_count": null,
      "outputs": []
    },
    {
      "cell_type": "markdown",
      "metadata": {
        "id": "lWLHVE5QtBjX"
      },
      "source": [
        "# Models!"
      ]
    },
    {
      "cell_type": "markdown",
      "metadata": {
        "id": "PUzx4XGhtC8c"
      },
      "source": [
        "## Model 1 of 10\n",
        "\n",
        "* This is the baseline.  Let's build it and then beat it with model 2!"
      ]
    },
    {
      "cell_type": "code",
      "metadata": {
        "id": "CyLuFVSctCsE"
      },
      "source": [
        ""
      ],
      "execution_count": null,
      "outputs": []
    },
    {
      "cell_type": "markdown",
      "metadata": {
        "id": "WCKrCMVZur9f"
      },
      "source": [
        "## Model 2 of 10\n",
        "* How can we help this?"
      ]
    },
    {
      "cell_type": "code",
      "metadata": {
        "id": "C40keOD0uxo6"
      },
      "source": [
        ""
      ],
      "execution_count": null,
      "outputs": []
    }
  ]
}