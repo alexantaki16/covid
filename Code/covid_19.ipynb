{
  "nbformat": 4,
  "nbformat_minor": 0,
  "metadata": {
    "colab": {
      "name": "covid_19.ipynb",
      "provenance": [],
      "include_colab_link": true
    },
    "kernelspec": {
      "name": "python3",
      "display_name": "Python 3"
    },
    "language_info": {
      "name": "python"
    }
  },
  "cells": [
    {
      "cell_type": "markdown",
      "metadata": {
        "id": "view-in-github",
        "colab_type": "text"
      },
      "source": [
        "<a href=\"https://colab.research.google.com/github/alexantaki16/covid/blob/master/Code/covid_19.ipynb\" target=\"_parent\"><img src=\"https://colab.research.google.com/assets/colab-badge.svg\" alt=\"Open In Colab\"/></a>"
      ]
    },
    {
      "cell_type": "markdown",
      "metadata": {
        "id": "NTQ_h0jtm1am"
      },
      "source": [
        "# Can we diagnosis Covid, Pneumonia, or Normal Chest X Rays with computer vision?\n",
        "\n",
        "I am going to use TensorFlow for this project.  \n",
        "\n",
        "## What will this notebook cover?\n",
        "I am going to go show you:\n",
        "* EDA\n",
        "* Prepreocessing\n",
        "* Model Building\n",
        "* Model Evaluation\n",
        "* Model Enhancement\n",
        "* Plotting our loss curves\n",
        "\n",
        "## Get the data for your own models!\n",
        "The data is from Kaggle.  Click [here](https://www.kaggle.com/tawsifurrahman/covid19-radiography-database) to view it!\n",
        "\n",
        "Are you ready?  Let's go."
      ]
    },
    {
      "cell_type": "markdown",
      "metadata": {
        "id": "-LmJrbvWm4Zv"
      },
      "source": [
        "#1 Import the necessary libraries"
      ]
    },
    {
      "cell_type": "code",
      "metadata": {
        "id": "8XdxJFcCmyKb",
        "colab": {
          "base_uri": "https://localhost:8080/"
        },
        "outputId": "97adf1d2-8628-48e3-a5f3-17e9e067b63f"
      },
      "source": [
        "import numpy as np\n",
        "import pandas as pd\n",
        "import matplotlib.pyplot as plt\n",
        "import matplotlib.image as mpimg\n",
        "import random\n",
        "import seaborn as sns\n",
        "\n",
        "import tensorflow as tf\n",
        "from tensorflow.keras.preprocessing.image import ImageDataGenerator\n",
        "from keras.layers import Dense, Conv2D, Flatten, MaxPool2D\n",
        "from keras.optimizers import Adam\n",
        "from keras.models import Sequential\n",
        "\n",
        "import math\n",
        "\n",
        "import os\n",
        "from google.colab import drive\n",
        "\n",
        "!pip install split_folders\n",
        "import splitfolders"
      ],
      "execution_count": 1,
      "outputs": [
        {
          "output_type": "stream",
          "text": [
            "Collecting split_folders\n",
            "  Downloading https://files.pythonhosted.org/packages/b8/5f/3c2b2f7ea5e047c8cdc3bb00ae582c5438fcdbbedcc23b3cc1c2c7aae642/split_folders-0.4.3-py3-none-any.whl\n",
            "Installing collected packages: split-folders\n",
            "Successfully installed split-folders-0.4.3\n"
          ],
          "name": "stdout"
        }
      ]
    },
    {
      "cell_type": "markdown",
      "metadata": {
        "id": "OTMLDL8Um-E4"
      },
      "source": [
        "#2 Import the data\n",
        "\n",
        "> Note: The data will be redownloaded every time we run this.  It is automatic, however, it is good to know :)."
      ]
    },
    {
      "cell_type": "code",
      "metadata": {
        "id": "9nHbZ-4dm693"
      },
      "source": [
        "from google.colab import drive\n",
        "drive.mount(\"/content/gdrive/\")\n",
        "\n",
        "#This will connect to our kaggle.json document\n",
        "os.environ[\"KAGGLE_CONFIG_DIR\"] = \"/content/gdrive/My Drive/\"\n",
        "\n",
        "#This will download the dataset directly into the colab \n",
        "!kaggle datasets download -d tawsifurrahman/covid19-radiography-database\n",
        "\n",
        "#Unzip the file\n",
        "!unzip covid19-radiography-database.zip\n",
        "\n",
        "#Navigate to the directory the data is in\n",
        "os.chdir(\"/content/COVID-19_Radiography_Dataset/\")"
      ],
      "execution_count": null,
      "outputs": []
    },
    {
      "cell_type": "markdown",
      "metadata": {
        "id": "kODwF9fVotn2"
      },
      "source": [
        "# 3.1 Explore the data\n",
        "\n",
        "* What type of data are we dealing with?\n",
        "  - Images\n",
        "* What are the shapes?\n",
        "  - 229, 229\n",
        "* Are the other ways for us to learn about the data?\n",
        "  - Metadata files\n",
        "* Are there any imbalances?\n",
        "  - Yes"
      ]
    },
    {
      "cell_type": "code",
      "metadata": {
        "id": "4-J68gYfnN8L"
      },
      "source": [
        "#Import all of the metadata files to view\n",
        "covid_metadata = pd.read_excel(\"COVID.metadata.xlsx\")\n",
        "normal_metadata = pd.read_excel(\"Normal.metadata.xlsx\")\n",
        "viral_pneumonia_metadata = pd.read_excel(\"Viral Pneumonia.metadata.xlsx\")"
      ],
      "execution_count": 3,
      "outputs": []
    },
    {
      "cell_type": "markdown",
      "metadata": {
        "id": "4cGU5L5Uu3S8"
      },
      "source": [
        "#What can we learn before we plot?\n",
        "* We can see the first few rows of data to be certain our data is in.\n",
        "  - `head()`\n",
        "* We can see the last few rows to get a sense of the size of the data\n",
        "  - `tail()`\n",
        "* We can see the description of the dataframes too.\n",
        "  - `describe()`\n",
        "* We can see the info of the dataframe.\n",
        "  - `info()`\n",
        "* We can see the column names of the dataframe.\n",
        "  - `.columns`\n",
        "* We can see the data types of the columns\n",
        "  - `dtypes()`\n",
        "* We can see if we have missing values\n",
        "  - `isna()`\n",
        "* We can see the shape\n",
        "  - `.shape`"
      ]
    },
    {
      "cell_type": "markdown",
      "metadata": {
        "id": "Ikn8VO7g0qPL"
      },
      "source": [
        "Let's make a helper function so reduce our code"
      ]
    },
    {
      "cell_type": "code",
      "metadata": {
        "id": "cjTJd9-j0pb-"
      },
      "source": [
        "def separate_learning_functions():\n",
        "  \"\"\"\n",
        "  Summary: This provides clean spacing to help separate the pandas functions\n",
        "\n",
        "  Descrtiption:  After this cell, we have a \"learn_about_covid_metadata()\" function.\n",
        "  I am using this function to reduce the amount of code.  Modularizing code is a great skill.\n",
        "\n",
        "  Params: None\n",
        "\n",
        "  Return: None\n",
        "  \"\"\"\n",
        "  print()\n",
        "  print(\"=\" * 100)\n",
        "  print()\n",
        "  print(\"#\" * 100)"
      ],
      "execution_count": 4,
      "outputs": []
    },
    {
      "cell_type": "code",
      "metadata": {
        "id": "MUo3O5VI1r6f"
      },
      "source": [
        "def get_df_name(dataframe):\n",
        "    \"\"\"\n",
        "    Summary:  This is a function from Stack Overflow. https://stackoverflow.com/questions/31727333/get-the-name-of-a-pandas-dataframe\n",
        "\n",
        "    Description:  Thank you for sharing this function\n",
        "\n",
        "    Parameters: A dataframe\n",
        "\n",
        "    Return: The dataframe name\n",
        "    \"\"\"\n",
        "    name =[x for x in globals() if globals()[x] is dataframe][0]\n",
        "    return name"
      ],
      "execution_count": 5,
      "outputs": []
    },
    {
      "cell_type": "code",
      "metadata": {
        "id": "uUHLGRAOzCOv"
      },
      "source": [
        "def learn_about_dataframes(dataframe):\n",
        "  \"\"\"\n",
        "  Summary:  This is the function that allows the viewer to see a quick walkthrough of the data\n",
        "\n",
        "  Description:  We have a lot of useful Pandas functions.  These are some of the few that are used almost all the time.\n",
        "  They are all in one area with this function.\n",
        "\n",
        "  Parameters: dataframe\n",
        "\n",
        "  Return: None\n",
        "  \"\"\"\n",
        "  dataframe_name = get_df_name(dataframe)\n",
        "\n",
        "  print(\"#\" * 50, dataframe_name.upper(), \"#\" * 50)\n",
        "  print(\"+\" * 45, \"Head Method\", \"+\" * 45)\n",
        "  print(dataframe.head())\n",
        "  print(\"+\" * 40, \"End Head Method\", \"+\" * 40)\n",
        "\n",
        "  separate_learning_functions()\n",
        "\n",
        "  print(\"+\" * 40, \"Tail Method\", \"+\" * 40)\n",
        "  print(dataframe.tail())\n",
        "  print(\"+\" * 40, \"End Tail Method\", \"+\" * 40)\n",
        "\n",
        "  separate_learning_functions()\n",
        "\n",
        "  print(\"+\" * 40, \"Describe Method\", \"+\" * 40)\n",
        "  print(dataframe.describe())\n",
        "  print(\"+\" * 40, \"End Describe Method\", \"+\" * 40)\n",
        "\n",
        "  separate_learning_functions()\n",
        "\n",
        "  print(\"+\" * 40, \"Info Method\", \"+\" * 40)\n",
        "  print(dataframe.info())\n",
        "  print(\"+\" * 40, \"End Info Method\", \"+\" * 40)\n",
        "\n",
        "  separate_learning_functions()\n",
        "\n",
        "  print(\"+\" * 40, \"Columns Method\", \"+\" * 40)\n",
        "  print(dataframe.columns)\n",
        "  print(\"+\" * 40, \"End Columns Method\", \"+\" * 40)\n",
        "\n",
        "  separate_learning_functions()\n",
        "\n",
        "  print(\"+\" * 40, \"isna Method\", \"+\" * 40)\n",
        "  print(dataframe.isna())\n",
        "  print(\"+\" * 40, \"End isna Method\", \"+\" * 40)\n",
        "\n",
        "  separate_learning_functions()\n",
        "\n",
        "  print(\"+\" * 40, \"Shape Method\", \"+\" * 40)\n",
        "  print(dataframe.shape)\n",
        "  print(\"+\" * 40, \"Shape Method\", \"+\" * 40)\n",
        "\n",
        "  separate_learning_functions()\n",
        "\n",
        "  print(\"#\" * 40, \"End\", dataframe_name.upper(), \"#\" * 40)\n",
        "  print(\"#\" * 100)"
      ],
      "execution_count": 6,
      "outputs": []
    },
    {
      "cell_type": "code",
      "metadata": {
        "id": "xIps4LBvzqKy",
        "colab": {
          "base_uri": "https://localhost:8080/"
        },
        "outputId": "1ae65d0b-71e4-4f26-b5f4-ad2ddebe82e0"
      },
      "source": [
        "learn_about_dataframes(covid_metadata)"
      ],
      "execution_count": 7,
      "outputs": [
        {
          "output_type": "stream",
          "text": [
            "################################################## COVID_METADATA ##################################################\n",
            "+++++++++++++++++++++++++++++++++++++++++++++ Head Method +++++++++++++++++++++++++++++++++++++++++++++\n",
            "  FILE NAME FORMAT     SIZE                                                URL\n",
            "0   COVID-1    PNG  256*256  https://sirm.org/category/senza-categoria/covi...\n",
            "1   COVID-2    PNG  256*256  https://sirm.org/category/senza-categoria/covi...\n",
            "2   COVID-3    PNG  256*256  https://sirm.org/category/senza-categoria/covi...\n",
            "3   COVID-4    PNG  256*256  https://sirm.org/category/senza-categoria/covi...\n",
            "4   COVID-5    PNG  256*256  https://sirm.org/category/senza-categoria/covi...\n",
            "++++++++++++++++++++++++++++++++++++++++ End Head Method ++++++++++++++++++++++++++++++++++++++++\n",
            "\n",
            "====================================================================================================\n",
            "\n",
            "####################################################################################################\n",
            "++++++++++++++++++++++++++++++++++++++++ Tail Method ++++++++++++++++++++++++++++++++++++++++\n",
            "       FILE NAME  ...                                                URL\n",
            "3611  COVID-3612  ...  https://bimcv.cipf.es/bimcv-projects/bimcv-cov...\n",
            "3612  COVID-3613  ...  https://bimcv.cipf.es/bimcv-projects/bimcv-cov...\n",
            "3613  COVID-3614  ...  https://bimcv.cipf.es/bimcv-projects/bimcv-cov...\n",
            "3614  COVID-3615  ...  https://bimcv.cipf.es/bimcv-projects/bimcv-cov...\n",
            "3615  COVID-3616  ...  https://bimcv.cipf.es/bimcv-projects/bimcv-cov...\n",
            "\n",
            "[5 rows x 4 columns]\n",
            "++++++++++++++++++++++++++++++++++++++++ End Tail Method ++++++++++++++++++++++++++++++++++++++++\n",
            "\n",
            "====================================================================================================\n",
            "\n",
            "####################################################################################################\n",
            "++++++++++++++++++++++++++++++++++++++++ Describe Method ++++++++++++++++++++++++++++++++++++++++\n",
            "        FILE NAME  ...                                                URL\n",
            "count        3616  ...                                               3616\n",
            "unique       3616  ...                                                  6\n",
            "top     COVID-333  ...  https://bimcv.cipf.es/bimcv-projects/bimcv-cov...\n",
            "freq            1  ...                                               2474\n",
            "\n",
            "[4 rows x 4 columns]\n",
            "++++++++++++++++++++++++++++++++++++++++ End Describe Method ++++++++++++++++++++++++++++++++++++++++\n",
            "\n",
            "====================================================================================================\n",
            "\n",
            "####################################################################################################\n",
            "++++++++++++++++++++++++++++++++++++++++ Info Method ++++++++++++++++++++++++++++++++++++++++\n",
            "<class 'pandas.core.frame.DataFrame'>\n",
            "RangeIndex: 3616 entries, 0 to 3615\n",
            "Data columns (total 4 columns):\n",
            " #   Column     Non-Null Count  Dtype \n",
            "---  ------     --------------  ----- \n",
            " 0   FILE NAME  3616 non-null   object\n",
            " 1   FORMAT     3616 non-null   object\n",
            " 2   SIZE       3616 non-null   object\n",
            " 3   URL        3616 non-null   object\n",
            "dtypes: object(4)\n",
            "memory usage: 113.1+ KB\n",
            "None\n",
            "++++++++++++++++++++++++++++++++++++++++ End Info Method ++++++++++++++++++++++++++++++++++++++++\n",
            "\n",
            "====================================================================================================\n",
            "\n",
            "####################################################################################################\n",
            "++++++++++++++++++++++++++++++++++++++++ Columns Method ++++++++++++++++++++++++++++++++++++++++\n",
            "Index(['FILE NAME', 'FORMAT', 'SIZE', 'URL'], dtype='object')\n",
            "++++++++++++++++++++++++++++++++++++++++ End Columns Method ++++++++++++++++++++++++++++++++++++++++\n",
            "\n",
            "====================================================================================================\n",
            "\n",
            "####################################################################################################\n",
            "++++++++++++++++++++++++++++++++++++++++ isna Method ++++++++++++++++++++++++++++++++++++++++\n",
            "      FILE NAME  FORMAT   SIZE    URL\n",
            "0         False   False  False  False\n",
            "1         False   False  False  False\n",
            "2         False   False  False  False\n",
            "3         False   False  False  False\n",
            "4         False   False  False  False\n",
            "...         ...     ...    ...    ...\n",
            "3611      False   False  False  False\n",
            "3612      False   False  False  False\n",
            "3613      False   False  False  False\n",
            "3614      False   False  False  False\n",
            "3615      False   False  False  False\n",
            "\n",
            "[3616 rows x 4 columns]\n",
            "++++++++++++++++++++++++++++++++++++++++ End isna Method ++++++++++++++++++++++++++++++++++++++++\n",
            "\n",
            "====================================================================================================\n",
            "\n",
            "####################################################################################################\n",
            "++++++++++++++++++++++++++++++++++++++++ Shape Method ++++++++++++++++++++++++++++++++++++++++\n",
            "(3616, 4)\n",
            "++++++++++++++++++++++++++++++++++++++++ Shape Method ++++++++++++++++++++++++++++++++++++++++\n",
            "\n",
            "====================================================================================================\n",
            "\n",
            "####################################################################################################\n",
            "######################################## End COVID_METADATA ########################################\n",
            "####################################################################################################\n"
          ],
          "name": "stdout"
        }
      ]
    },
    {
      "cell_type": "markdown",
      "metadata": {
        "id": "xiqzz6DN8Ilx"
      },
      "source": [
        "#What is the Covid metadata learning function telling us?\n",
        "\n",
        "- `head()`\n",
        "  - The dataframe imported successfully.\n",
        "  - It looks like we have 4 columns (file name, format, pixel density, and the url)\n",
        "  - The pixels are 256 * 256\n",
        "- `tail()`\n",
        "  - There are 3615 rows\n",
        "- `describe()`\n",
        "  - There are 3615 counts of images which means every image is unique.  Sweet.\n",
        "- `info()`\n",
        "  - We can see the fours columns is correct\n",
        "  - They are all objects but that is okay since we are using this to help us understand the data.  This is not going to be in the model section.\n",
        "- `isna()`\n",
        "  - We can see the False statements showing us there is no missing data.  This is only a snippet so do not assume that means everything is there.\n",
        "- `shape`\n",
        "  - The shape of the dataframe is 3615 x 4 which makes sense.  The top row is includes so it says there is one more row than I wrote here.  The 4 columns is confirmed yet again."
      ]
    },
    {
      "cell_type": "code",
      "metadata": {
        "id": "RpgMHucJ4saD",
        "colab": {
          "base_uri": "https://localhost:8080/"
        },
        "outputId": "3dd8b3d7-82ef-41b6-ef8a-5c50ffdaccc4"
      },
      "source": [
        "learn_about_dataframes(viral_pneumonia_metadata)"
      ],
      "execution_count": 8,
      "outputs": [
        {
          "output_type": "stream",
          "text": [
            "################################################## VIRAL_PNEUMONIA_METADATA ##################################################\n",
            "+++++++++++++++++++++++++++++++++++++++++++++ Head Method +++++++++++++++++++++++++++++++++++++++++++++\n",
            "           FILE NAME  ...                                                URL\n",
            "0  Viral Pneumonia-1  ...  https://www.kaggle.com/paultimothymooney/chest...\n",
            "1  Viral Pneumonia-2  ...  https://www.kaggle.com/paultimothymooney/chest...\n",
            "2  Viral Pneumonia-3  ...  https://www.kaggle.com/paultimothymooney/chest...\n",
            "3  Viral Pneumonia-4  ...  https://www.kaggle.com/paultimothymooney/chest...\n",
            "4  Viral Pneumonia-5  ...  https://www.kaggle.com/paultimothymooney/chest...\n",
            "\n",
            "[5 rows x 4 columns]\n",
            "++++++++++++++++++++++++++++++++++++++++ End Head Method ++++++++++++++++++++++++++++++++++++++++\n",
            "\n",
            "====================================================================================================\n",
            "\n",
            "####################################################################################################\n",
            "++++++++++++++++++++++++++++++++++++++++ Tail Method ++++++++++++++++++++++++++++++++++++++++\n",
            "                 FILE NAME  ...                                                URL\n",
            "1340  Viral Pneumonia-1341  ...  https://www.kaggle.com/paultimothymooney/chest...\n",
            "1341  Viral Pneumonia-1342  ...  https://www.kaggle.com/paultimothymooney/chest...\n",
            "1342  Viral Pneumonia-1343  ...  https://www.kaggle.com/paultimothymooney/chest...\n",
            "1343  Viral Pneumonia-1344  ...  https://www.kaggle.com/paultimothymooney/chest...\n",
            "1344  Viral Pneumonia-1345  ...  https://www.kaggle.com/paultimothymooney/chest...\n",
            "\n",
            "[5 rows x 4 columns]\n",
            "++++++++++++++++++++++++++++++++++++++++ End Tail Method ++++++++++++++++++++++++++++++++++++++++\n",
            "\n",
            "====================================================================================================\n",
            "\n",
            "####################################################################################################\n",
            "++++++++++++++++++++++++++++++++++++++++ Describe Method ++++++++++++++++++++++++++++++++++++++++\n",
            "                  FILE NAME  ...                                                URL\n",
            "count                  1345  ...                                               1345\n",
            "unique                 1345  ...                                                  1\n",
            "top     Viral Pneumonia-483  ...  https://www.kaggle.com/paultimothymooney/chest...\n",
            "freq                      1  ...                                               1345\n",
            "\n",
            "[4 rows x 4 columns]\n",
            "++++++++++++++++++++++++++++++++++++++++ End Describe Method ++++++++++++++++++++++++++++++++++++++++\n",
            "\n",
            "====================================================================================================\n",
            "\n",
            "####################################################################################################\n",
            "++++++++++++++++++++++++++++++++++++++++ Info Method ++++++++++++++++++++++++++++++++++++++++\n",
            "<class 'pandas.core.frame.DataFrame'>\n",
            "RangeIndex: 1345 entries, 0 to 1344\n",
            "Data columns (total 4 columns):\n",
            " #   Column     Non-Null Count  Dtype \n",
            "---  ------     --------------  ----- \n",
            " 0   FILE NAME  1345 non-null   object\n",
            " 1   FORMAT     1345 non-null   object\n",
            " 2   SIZE       1345 non-null   object\n",
            " 3   URL        1345 non-null   object\n",
            "dtypes: object(4)\n",
            "memory usage: 42.2+ KB\n",
            "None\n",
            "++++++++++++++++++++++++++++++++++++++++ End Info Method ++++++++++++++++++++++++++++++++++++++++\n",
            "\n",
            "====================================================================================================\n",
            "\n",
            "####################################################################################################\n",
            "++++++++++++++++++++++++++++++++++++++++ Columns Method ++++++++++++++++++++++++++++++++++++++++\n",
            "Index(['FILE NAME', 'FORMAT', 'SIZE', 'URL'], dtype='object')\n",
            "++++++++++++++++++++++++++++++++++++++++ End Columns Method ++++++++++++++++++++++++++++++++++++++++\n",
            "\n",
            "====================================================================================================\n",
            "\n",
            "####################################################################################################\n",
            "++++++++++++++++++++++++++++++++++++++++ isna Method ++++++++++++++++++++++++++++++++++++++++\n",
            "      FILE NAME  FORMAT   SIZE    URL\n",
            "0         False   False  False  False\n",
            "1         False   False  False  False\n",
            "2         False   False  False  False\n",
            "3         False   False  False  False\n",
            "4         False   False  False  False\n",
            "...         ...     ...    ...    ...\n",
            "1340      False   False  False  False\n",
            "1341      False   False  False  False\n",
            "1342      False   False  False  False\n",
            "1343      False   False  False  False\n",
            "1344      False   False  False  False\n",
            "\n",
            "[1345 rows x 4 columns]\n",
            "++++++++++++++++++++++++++++++++++++++++ End isna Method ++++++++++++++++++++++++++++++++++++++++\n",
            "\n",
            "====================================================================================================\n",
            "\n",
            "####################################################################################################\n",
            "++++++++++++++++++++++++++++++++++++++++ Shape Method ++++++++++++++++++++++++++++++++++++++++\n",
            "(1345, 4)\n",
            "++++++++++++++++++++++++++++++++++++++++ Shape Method ++++++++++++++++++++++++++++++++++++++++\n",
            "\n",
            "====================================================================================================\n",
            "\n",
            "####################################################################################################\n",
            "######################################## End VIRAL_PNEUMONIA_METADATA ########################################\n",
            "####################################################################################################\n"
          ],
          "name": "stdout"
        }
      ]
    },
    {
      "cell_type": "markdown",
      "metadata": {
        "id": "Zp0TOqe68029"
      },
      "source": [
        "#What is the Viral Pnemonia metadata learning telling us?\n",
        "\n",
        "- `head()`\n",
        "  - The dataframe imported successfully\n",
        "  - There are four columns again.  They are file name, format (peg), pixel density, and url.\n",
        "- `tail()`\n",
        "  - We are handling 1344 rows of data.  That is a noticebale difference from the Covid one.  The previous one has 3616.  We have over 2.5x the amount.  Hmm.  Class imbalance magic will be helpful.  Maybe augment one dataset and not the other 🤔.\n",
        "- `describe()`\n",
        "  - There are 1345 unique columns \n",
        "- `info()`\n",
        "  - This confirms the four columns and we are dealing with object since it is text but that is okay.\n",
        "- `columns`\n",
        "  - We can see the four columns.\n",
        "- `isna()`\n",
        "  - This tells us that there are no missing values.  It is not the whole dataset, be careful and do not assume that everything is good to go.\n",
        "- `shape`\n",
        "  - The shape is 1345, 4.  That confirms the 1345 rows from the tail and the four columns from info and columns"
      ]
    },
    {
      "cell_type": "code",
      "metadata": {
        "id": "RmHEgf1T8-Jm",
        "colab": {
          "base_uri": "https://localhost:8080/"
        },
        "outputId": "3c142058-e209-4c61-d7e2-26a1b7d5c30e"
      },
      "source": [
        "learn_about_dataframes(normal_metadata)"
      ],
      "execution_count": 9,
      "outputs": [
        {
          "output_type": "stream",
          "text": [
            "################################################## NORMAL_METADATA ##################################################\n",
            "+++++++++++++++++++++++++++++++++++++++++++++ Head Method +++++++++++++++++++++++++++++++++++++++++++++\n",
            "  FILE NAME FORMAT     SIZE                                                URL\n",
            "0  NORMAL-1    PNG  256*256  https://www.kaggle.com/c/rsna-pneumonia-detect...\n",
            "1  NORMAL-2    PNG  256*256  https://www.kaggle.com/c/rsna-pneumonia-detect...\n",
            "2  NORMAL-3    PNG  256*256  https://www.kaggle.com/c/rsna-pneumonia-detect...\n",
            "3  NORMAL-4    PNG  256*256  https://www.kaggle.com/c/rsna-pneumonia-detect...\n",
            "4  NORMAL-5    PNG  256*256  https://www.kaggle.com/c/rsna-pneumonia-detect...\n",
            "++++++++++++++++++++++++++++++++++++++++ End Head Method ++++++++++++++++++++++++++++++++++++++++\n",
            "\n",
            "====================================================================================================\n",
            "\n",
            "####################################################################################################\n",
            "++++++++++++++++++++++++++++++++++++++++ Tail Method ++++++++++++++++++++++++++++++++++++++++\n",
            "          FILE NAME  ...                                                URL\n",
            "10187  NORMAL-10188  ...  https://www.kaggle.com/paultimothymooney/chest...\n",
            "10188  NORMAL-10189  ...  https://www.kaggle.com/paultimothymooney/chest...\n",
            "10189  NORMAL-10190  ...  https://www.kaggle.com/paultimothymooney/chest...\n",
            "10190  NORMAL-10191  ...  https://www.kaggle.com/paultimothymooney/chest...\n",
            "10191  NORMAL-10192  ...  https://www.kaggle.com/paultimothymooney/chest...\n",
            "\n",
            "[5 rows x 4 columns]\n",
            "++++++++++++++++++++++++++++++++++++++++ End Tail Method ++++++++++++++++++++++++++++++++++++++++\n",
            "\n",
            "====================================================================================================\n",
            "\n",
            "####################################################################################################\n",
            "++++++++++++++++++++++++++++++++++++++++ Describe Method ++++++++++++++++++++++++++++++++++++++++\n",
            "          FILE NAME  ...                                                URL\n",
            "count         10192  ...                                              10192\n",
            "unique        10192  ...                                                  2\n",
            "top     NORMAL-5279  ...  https://www.kaggle.com/c/rsna-pneumonia-detect...\n",
            "freq              1  ...                                               8851\n",
            "\n",
            "[4 rows x 4 columns]\n",
            "++++++++++++++++++++++++++++++++++++++++ End Describe Method ++++++++++++++++++++++++++++++++++++++++\n",
            "\n",
            "====================================================================================================\n",
            "\n",
            "####################################################################################################\n",
            "++++++++++++++++++++++++++++++++++++++++ Info Method ++++++++++++++++++++++++++++++++++++++++\n",
            "<class 'pandas.core.frame.DataFrame'>\n",
            "RangeIndex: 10192 entries, 0 to 10191\n",
            "Data columns (total 4 columns):\n",
            " #   Column     Non-Null Count  Dtype \n",
            "---  ------     --------------  ----- \n",
            " 0   FILE NAME  10192 non-null  object\n",
            " 1   FORMAT     10192 non-null  object\n",
            " 2   SIZE       10192 non-null  object\n",
            " 3   URL        10192 non-null  object\n",
            "dtypes: object(4)\n",
            "memory usage: 318.6+ KB\n",
            "None\n",
            "++++++++++++++++++++++++++++++++++++++++ End Info Method ++++++++++++++++++++++++++++++++++++++++\n",
            "\n",
            "====================================================================================================\n",
            "\n",
            "####################################################################################################\n",
            "++++++++++++++++++++++++++++++++++++++++ Columns Method ++++++++++++++++++++++++++++++++++++++++\n",
            "Index(['FILE NAME', 'FORMAT', 'SIZE', 'URL'], dtype='object')\n",
            "++++++++++++++++++++++++++++++++++++++++ End Columns Method ++++++++++++++++++++++++++++++++++++++++\n",
            "\n",
            "====================================================================================================\n",
            "\n",
            "####################################################################################################\n",
            "++++++++++++++++++++++++++++++++++++++++ isna Method ++++++++++++++++++++++++++++++++++++++++\n",
            "       FILE NAME  FORMAT   SIZE    URL\n",
            "0          False   False  False  False\n",
            "1          False   False  False  False\n",
            "2          False   False  False  False\n",
            "3          False   False  False  False\n",
            "4          False   False  False  False\n",
            "...          ...     ...    ...    ...\n",
            "10187      False   False  False  False\n",
            "10188      False   False  False  False\n",
            "10189      False   False  False  False\n",
            "10190      False   False  False  False\n",
            "10191      False   False  False  False\n",
            "\n",
            "[10192 rows x 4 columns]\n",
            "++++++++++++++++++++++++++++++++++++++++ End isna Method ++++++++++++++++++++++++++++++++++++++++\n",
            "\n",
            "====================================================================================================\n",
            "\n",
            "####################################################################################################\n",
            "++++++++++++++++++++++++++++++++++++++++ Shape Method ++++++++++++++++++++++++++++++++++++++++\n",
            "(10192, 4)\n",
            "++++++++++++++++++++++++++++++++++++++++ Shape Method ++++++++++++++++++++++++++++++++++++++++\n",
            "\n",
            "====================================================================================================\n",
            "\n",
            "####################################################################################################\n",
            "######################################## End NORMAL_METADATA ########################################\n",
            "####################################################################################################\n"
          ],
          "name": "stdout"
        }
      ]
    },
    {
      "cell_type": "markdown",
      "metadata": {
        "id": "rzbQJYZO9EA3"
      },
      "source": [
        "#What is the Normal metadaa learning function telling us?\n",
        "\n",
        "- `head()`\n",
        "  - The dataframe import successfull\n",
        "- `tail()`\n",
        "  - We have 10191 rows\n",
        "- `describe()`\n",
        "  - We have all unique images\n",
        "- `info()`\n",
        "  - We know we have a full dataset with 10191 rows and 4 columns\n",
        "- `columns`\n",
        "  - There are definitely four columns only\n",
        "- `isna()`\n",
        "  - We can see everything is false which is good.  This does not mean everything is false.\n",
        "- `shape`\n",
        "  - This shape = 10192, 4.  This confirms the row / column count"
      ]
    },
    {
      "cell_type": "markdown",
      "metadata": {
        "id": "Cnomv0M2CrAf"
      },
      "source": [
        "# The Key Takeaway\n",
        "- Covid = 3616 images\n",
        "- Pneumonia = 1345 images\n",
        "- Normal = 10191 images\n",
        "\n",
        "This should be fixed."
      ]
    },
    {
      "cell_type": "markdown",
      "metadata": {
        "id": "yMJEfB62rK9_"
      },
      "source": [
        "#3.2 Explore random images"
      ]
    },
    {
      "cell_type": "code",
      "metadata": {
        "id": "Sjco8P-3pKfi"
      },
      "source": [
        "def view_random_image(target_dir, target_class):\n",
        "  \"\"\"\n",
        "  This is from a course I am taking on Zero to Mastery.\n",
        "  Here is a link: https://academy.zerotomastery.io/p/learn-tensorflow\n",
        "  \"\"\"\n",
        "  #Setup target directory\n",
        "  target_folder = target_dir + target_class\n",
        "\n",
        "  #Get a random image path\n",
        "  random_image = random.sample(os.listdir(target_folder), 1)\n",
        "\n",
        "  #Read in the image and plot it using matplotlib\n",
        "  img = mpimg.imread(target_folder + \"/\" + random_image[0])\n",
        "  plt.imshow(img)\n",
        "  plt.title(target_class)\n",
        "  plt.axis(\"off\")\n",
        "\n",
        "  print(f\"Image shape: {img.shape}\")\n",
        "\n",
        "  return img"
      ],
      "execution_count": 10,
      "outputs": []
    },
    {
      "cell_type": "code",
      "metadata": {
        "id": "eVIeK7Rap8V1"
      },
      "source": [
        "pathways = [\"COVID\", \"Viral Pneumonia\", \"Normal\"]\n",
        "covid_path = \"/content/COVID-19_Radiography_Dataset/\" + pathways[0] \n",
        "viral_pneumonia_path = \"/content/COVID-19_Radiography_Dataset/\" + pathways[1]\n",
        "normal_path = \"/content/COVID-19_Radiography_Dataset/\" + pathways[2]\n",
        "\n",
        "def view_random_image():\n",
        "  \"\"\"\n",
        "  Summary: View a random image from the datasets\n",
        "\n",
        "  Description:  This is a random image from the three xrays\n",
        "\n",
        "  Parameters: None\n",
        "\n",
        "  Return: None\n",
        "  \"\"\"\n",
        "\n",
        "  def randomize_file():\n",
        "    \"\"\"\n",
        "    Description: Return the random choice from a directory\n",
        "    \"\"\"\n",
        "    return random.choice(os.listdir(path))\n",
        "\n",
        "  def print_random_filename(random_file):\n",
        "    \"\"\"\n",
        "    Description: This will print the filename to make it readable\n",
        "    \"\"\"\n",
        "    random_filename = random_file.split(\".png\")[0]\n",
        "    print(random_filename)\n",
        "\n",
        "\n",
        "  def covid_img():\n",
        "    \"\"\"\n",
        "    This will grab a random covid image\n",
        "    \"\"\"\n",
        "    random_file = random.choice(os.listdir(covid_path))\n",
        "\n",
        "    covid_img = mpimg.imread(\"/content/COVID-19_Radiography_Dataset/COVID/\" + random_file)\n",
        "    plt.imshow(covid_img)\n",
        "    plt.title(random_file)\n",
        "    print(\"Image shape: \", covid_img.shape)\n",
        "\n",
        "  def pneumonia_img():\n",
        "    \"\"\"\n",
        "    This will grab a random pneumonia image\n",
        "    \"\"\"\n",
        "    random_file = random.choice(os.listdir(viral_pneumonia_path))\n",
        "\n",
        "    plt.figure()\n",
        "    viral_pneumonia_img = mpimg.imread(\"/content/COVID-19_Radiography_Dataset/Viral Pneumonia/\" + random_file)\n",
        "    plt.imshow(viral_pneumonia_img)\n",
        "    plt.title(random_file)\n",
        "    print(\"Image shape: \", viral_pneumonia_img.shape)\n",
        "\n",
        "  def normal_img():\n",
        "    \"\"\"\n",
        "    This will grab a random normal image\n",
        "    \"\"\"\n",
        "    random_file = random.choice(os.listdir(normal_path))\n",
        "    plt.figure()\n",
        "    normal_img = mpimg.imread(\"/content/COVID-19_Radiography_Dataset/Normal/\" + random_file)\n",
        "    plt.imshow(normal_img)\n",
        "    plt.title(random_file)\n",
        "    print(\"Image shape: \", normal_img.shape)\n",
        "\n",
        "  covid_img()\n",
        "  pneumonia_img()\n",
        "  normal_img()"
      ],
      "execution_count": null,
      "outputs": []
    },
    {
      "cell_type": "code",
      "metadata": {
        "id": "-Cw8QfZBQIQi"
      },
      "source": [
        "view_random_image()"
      ],
      "execution_count": null,
      "outputs": []
    },
    {
      "cell_type": "markdown",
      "metadata": {
        "id": "u2Oxa5cDufSC"
      },
      "source": [
        "# Preprocessing\n",
        "\n",
        "Let's make our ImageDataGenerators with no augmentation for now"
      ]
    },
    {
      "cell_type": "code",
      "metadata": {
        "id": "br1355rBSlol"
      },
      "source": [
        "os.chdir(\"/content/COVID-19_Radiography_Dataset/\")"
      ],
      "execution_count": 13,
      "outputs": []
    },
    {
      "cell_type": "code",
      "metadata": {
        "colab": {
          "base_uri": "https://localhost:8080/"
        },
        "id": "H0dB8aMnQtQp",
        "outputId": "50d35e7a-bc8f-474b-babb-668e31647973"
      },
      "source": [
        "splitfolders.ratio(\"/content/COVID-19_Radiography_Dataset/\", output=\"data\", seed=1337, ratio=(.8, .2), group_prefix=None) # default values"
      ],
      "execution_count": 14,
      "outputs": [
        {
          "output_type": "stream",
          "text": [
            "Copying files: 21165 files [00:05, 3567.13 files/s]\n"
          ],
          "name": "stderr"
        }
      ]
    },
    {
      "cell_type": "code",
      "metadata": {
        "id": "tr5k88oDHDof",
        "outputId": "2f39bc7a-2edd-48e6-e458-fac624cb4296",
        "colab": {
          "base_uri": "https://localhost:8080/"
        }
      },
      "source": [
        "#Remove unnecessary file\n",
        "os.chdir(\"/content/COVID-19_Radiography_Dataset/data/train\")\n",
        "!rm -r \"/content/COVID-19_Radiography_Dataset/data/train/Lung_Opacity\"\n",
        "!rm -r \"/content/COVID-19_Radiography_Dataset/data/train/.ipynb_checkpoints\"\n",
        "\n",
        "os.chrdir(\"/content/COVID-19_Radiography_Dataset/data/val/\")\n",
        "!rm -r \"/content/COVID-19_Radiography_Dataset/data/val/Lung_Opacity/\"\n",
        "!rm -r \"/content/COVID-19_Radiography_Dataset/data/val/.ipynb_checkpoints/\""
      ],
      "execution_count": 15,
      "outputs": [
        {
          "output_type": "stream",
          "text": [
            "rm: cannot remove '/content/COVID-19_Radiography_Dataset/data/train/.ipynb_checkpoints': No such file or directory\n",
            "rm: cannot remove '/content/COVID-19_Radiography_Dataset/data/val/.ipynb_checkpoints/': No such file or directory\n"
          ],
          "name": "stdout"
        }
      ]
    },
    {
      "cell_type": "code",
      "metadata": {
        "id": "6kFv7Gpb3xfU"
      },
      "source": [
        "#Set up training directories\n",
        "train_dir = \"/content/COVID-19_Radiography_Dataset/data/train/\"\n",
        "test_dir = \"/content/COVID-19_Radiography_Dataset/data/val/\""
      ],
      "execution_count": 16,
      "outputs": []
    },
    {
      "cell_type": "code",
      "metadata": {
        "id": "EtZEag1t2JsK"
      },
      "source": [
        "#Let's make the datagens\n",
        "train_datagen = ImageDataGenerator(rescale = 1. / 255)\n",
        "test_datagen = ImageDataGenerator(rescale = 1. / 255)"
      ],
      "execution_count": 17,
      "outputs": []
    },
    {
      "cell_type": "code",
      "metadata": {
        "colab": {
          "base_uri": "https://localhost:8080/"
        },
        "id": "nB14V_0A2n5O",
        "outputId": "dd916a49-c212-4685-de69-6239ce47213d"
      },
      "source": [
        "#Set up the train data\n",
        "train_data = train_datagen.flow_from_directory(train_dir,\n",
        "                                               target_size = (299, 299),\n",
        "                                               class_mode = \"categorical\",\n",
        "                                               batch_size = 32,\n",
        "                                               shuffle = True)\n",
        "\n",
        "test_data = train_datagen.flow_from_directory(test_dir,\n",
        "                                              target_size = (299, 299),\n",
        "                                              class_mode = \"categorical\",\n",
        "                                              batch_size = 32,\n",
        "                                              shuffle = True)"
      ],
      "execution_count": 18,
      "outputs": [
        {
          "output_type": "stream",
          "text": [
            "Found 12121 images belonging to 3 classes.\n",
            "Found 3032 images belonging to 3 classes.\n"
          ],
          "name": "stdout"
        }
      ]
    },
    {
      "cell_type": "markdown",
      "metadata": {
        "id": "lWLHVE5QtBjX"
      },
      "source": [
        "# Models!"
      ]
    },
    {
      "cell_type": "markdown",
      "metadata": {
        "id": "PUzx4XGhtC8c"
      },
      "source": [
        "## Model 1 of 10\n",
        "\n",
        "* This is the baseline.  Let's build it and then beat it with model 2!"
      ]
    },
    {
      "cell_type": "code",
      "metadata": {
        "id": "CyLuFVSctCsE",
        "colab": {
          "base_uri": "https://localhost:8080/"
        },
        "outputId": "70c6cb18-1389-4ab9-9348-f561004cf1e8"
      },
      "source": [
        "#1 Build the baseline mode;\n",
        "\n",
        "model_1 = Sequential([\n",
        "  Conv2D(10, 3, activation = \"relu\", input_shape = (299, 299, 3)),\n",
        "  MaxPool2D(),\n",
        "  Conv2D(10, 3, activation = \"relu\"),\n",
        "  MaxPool2D(),\n",
        "  Conv2D(10, 3, activation = \"relu\"),\n",
        "  MaxPool2D(),\n",
        "  Flatten(),\n",
        "  Dense(3, activation = \"softmax\")\n",
        "])\n",
        "\n",
        "#2 Compile the model\n",
        "model_1.compile(loss = tf.keras.losses.categorical_crossentropy,\n",
        "                optimizer = Adam(),\n",
        "                metrics = [\"accuracy\"])\n",
        "\n",
        "#3 Fit the model\n",
        "history_1 = model_1.fit(train_data,\n",
        "                        epochs = 30,\n",
        "                        validation_data = test_data,\n",
        "                        steps_per_epoch = math.ceil(len(train_data) / 32),\n",
        "                        validation_steps = math.ceil(len(test_data) / 32))"
      ],
      "execution_count": 19,
      "outputs": [
        {
          "output_type": "stream",
          "text": [
            "Epoch 1/30\n",
            "12/12 [==============================] - 22s 2s/step - loss: 0.9252 - accuracy: 0.7143 - val_loss: 0.8006 - val_accuracy: 0.6771\n",
            "Epoch 2/30\n",
            "12/12 [==============================] - 20s 2s/step - loss: 0.7840 - accuracy: 0.6674 - val_loss: 0.7860 - val_accuracy: 0.6250\n",
            "Epoch 3/30\n",
            "12/12 [==============================] - 21s 2s/step - loss: 0.6886 - accuracy: 0.7068 - val_loss: 0.6459 - val_accuracy: 0.6667\n",
            "Epoch 4/30\n",
            "12/12 [==============================] - 21s 2s/step - loss: 0.5617 - accuracy: 0.7438 - val_loss: 0.5389 - val_accuracy: 0.7708\n",
            "Epoch 5/30\n",
            "12/12 [==============================] - 20s 2s/step - loss: 0.4689 - accuracy: 0.7963 - val_loss: 0.4547 - val_accuracy: 0.7812\n",
            "Epoch 6/30\n",
            "12/12 [==============================] - 20s 2s/step - loss: 0.4542 - accuracy: 0.7779 - val_loss: 0.4881 - val_accuracy: 0.7500\n",
            "Epoch 7/30\n",
            "12/12 [==============================] - 20s 2s/step - loss: 0.5095 - accuracy: 0.7679 - val_loss: 0.5388 - val_accuracy: 0.7604\n",
            "Epoch 8/30\n",
            "12/12 [==============================] - 21s 2s/step - loss: 0.4381 - accuracy: 0.7985 - val_loss: 0.4385 - val_accuracy: 0.8021\n",
            "Epoch 9/30\n",
            "12/12 [==============================] - 20s 2s/step - loss: 0.4223 - accuracy: 0.8239 - val_loss: 0.5571 - val_accuracy: 0.7500\n",
            "Epoch 10/30\n",
            "12/12 [==============================] - 20s 2s/step - loss: 0.4459 - accuracy: 0.8020 - val_loss: 0.4693 - val_accuracy: 0.7708\n",
            "Epoch 11/30\n",
            "12/12 [==============================] - 20s 2s/step - loss: 0.3788 - accuracy: 0.8384 - val_loss: 0.5097 - val_accuracy: 0.7396\n",
            "Epoch 12/30\n",
            "12/12 [==============================] - 21s 2s/step - loss: 0.3788 - accuracy: 0.8416 - val_loss: 0.3863 - val_accuracy: 0.8438\n",
            "Epoch 13/30\n",
            "12/12 [==============================] - 21s 2s/step - loss: 0.4549 - accuracy: 0.8154 - val_loss: 0.2975 - val_accuracy: 0.8750\n",
            "Epoch 14/30\n",
            "12/12 [==============================] - 23s 2s/step - loss: 0.3079 - accuracy: 0.8742 - val_loss: 0.3180 - val_accuracy: 0.8750\n",
            "Epoch 15/30\n",
            "12/12 [==============================] - 21s 2s/step - loss: 0.3361 - accuracy: 0.8908 - val_loss: 0.3700 - val_accuracy: 0.8125\n",
            "Epoch 16/30\n",
            "12/12 [==============================] - 21s 2s/step - loss: 0.3406 - accuracy: 0.8536 - val_loss: 0.3399 - val_accuracy: 0.8958\n",
            "Epoch 17/30\n",
            "12/12 [==============================] - 21s 2s/step - loss: 0.3567 - accuracy: 0.8384 - val_loss: 0.4009 - val_accuracy: 0.8542\n",
            "Epoch 18/30\n",
            "12/12 [==============================] - 21s 2s/step - loss: 0.3290 - accuracy: 0.8669 - val_loss: 0.5098 - val_accuracy: 0.7604\n",
            "Epoch 19/30\n",
            "12/12 [==============================] - 21s 2s/step - loss: 0.3286 - accuracy: 0.8324 - val_loss: 0.2438 - val_accuracy: 0.8854\n",
            "Epoch 20/30\n",
            "12/12 [==============================] - 21s 2s/step - loss: 0.3002 - accuracy: 0.8880 - val_loss: 0.3128 - val_accuracy: 0.8750\n",
            "Epoch 21/30\n",
            "12/12 [==============================] - 21s 2s/step - loss: 0.3599 - accuracy: 0.8664 - val_loss: 0.4210 - val_accuracy: 0.8229\n",
            "Epoch 22/30\n",
            "12/12 [==============================] - 21s 2s/step - loss: 0.3091 - accuracy: 0.8772 - val_loss: 0.2891 - val_accuracy: 0.8333\n",
            "Epoch 23/30\n",
            "12/12 [==============================] - 20s 2s/step - loss: 0.3170 - accuracy: 0.8836 - val_loss: 0.3399 - val_accuracy: 0.8750\n",
            "Epoch 24/30\n",
            "12/12 [==============================] - 20s 2s/step - loss: 0.4517 - accuracy: 0.8074 - val_loss: 0.3386 - val_accuracy: 0.8854\n",
            "Epoch 25/30\n",
            "12/12 [==============================] - 20s 2s/step - loss: 0.3661 - accuracy: 0.8697 - val_loss: 0.2263 - val_accuracy: 0.9375\n",
            "Epoch 26/30\n",
            "12/12 [==============================] - 21s 2s/step - loss: 0.3470 - accuracy: 0.8694 - val_loss: 0.3210 - val_accuracy: 0.8854\n",
            "Epoch 27/30\n",
            "12/12 [==============================] - 20s 2s/step - loss: 0.3105 - accuracy: 0.8908 - val_loss: 0.3071 - val_accuracy: 0.8854\n",
            "Epoch 28/30\n",
            "12/12 [==============================] - 20s 2s/step - loss: 0.3596 - accuracy: 0.8564 - val_loss: 0.3127 - val_accuracy: 0.8750\n",
            "Epoch 29/30\n",
            "12/12 [==============================] - 20s 2s/step - loss: 0.3319 - accuracy: 0.8413 - val_loss: 0.2728 - val_accuracy: 0.8958\n",
            "Epoch 30/30\n",
            "12/12 [==============================] - 20s 2s/step - loss: 0.3014 - accuracy: 0.8836 - val_loss: 0.4289 - val_accuracy: 0.7812\n"
          ],
          "name": "stdout"
        }
      ]
    },
    {
      "cell_type": "code",
      "metadata": {
        "id": "PNI30ObuUWuv"
      },
      "source": [
        "def plot_loss_curves(history):\n",
        "  \"\"\"\n",
        "  Summary: This is from a class I am taking on Zero to Mastery.  Here is a link: https://academy.zerotomastery.io/p/learn-tensorflow\n",
        "\n",
        "  Description: This can plot the loss curves of our model\n",
        "\n",
        "  Parameters: history\n",
        "\n",
        "  Returns: Separate loss curves for training and validation metrics.\n",
        "  \"\"\" \n",
        "  loss = history.history['loss']\n",
        "  val_loss = history.history['val_loss']\n",
        "\n",
        "  accuracy = history.history['accuracy']\n",
        "  val_accuracy = history.history['val_accuracy']\n",
        "\n",
        "  epochs = range(len(history.history['loss']))\n",
        "\n",
        "  # Plot loss\n",
        "  plt.plot(epochs, loss, label='training_loss')\n",
        "  plt.plot(epochs, val_loss, label='val_loss')\n",
        "  plt.title('Loss')\n",
        "  plt.xlabel('Epochs')\n",
        "  plt.legend()\n",
        "\n",
        "  # Plot accuracy\n",
        "  plt.figure()\n",
        "  plt.plot(epochs, accuracy, label='training_accuracy')\n",
        "  plt.plot(epochs, val_accuracy, label='val_accuracy')\n",
        "  plt.title('Accuracy')\n",
        "  plt.xlabel('Epochs')\n",
        "  plt.legend();"
      ],
      "execution_count": 20,
      "outputs": []
    },
    {
      "cell_type": "code",
      "metadata": {
        "colab": {
          "base_uri": "https://localhost:8080/",
          "height": 573
        },
        "id": "CKvdFyF6Uvnr",
        "outputId": "e4726f68-4ff3-4755-fab8-840d619f869d"
      },
      "source": [
        "plot_loss_curves(history_1)"
      ],
      "execution_count": 21,
      "outputs": [
        {
          "output_type": "display_data",
          "data": {
            "image/png": "[encoded data removed]",
            "text/plain": [
              "<Figure size 432x288 with 1 Axes>"
            ]
          },
          "metadata": {
            "tags": [],
            "needs_background": "light"
          }
        },
        {
          "output_type": "display_data",
          "data": {
            "image/png": "[encoded data removed]",
            "text/plain": [
              "<Figure size 432x288 with 1 Axes>"
            ]
          },
          "metadata": {
            "tags": [],
            "needs_background": "light"
          }
        }
      ]
    },
    {
      "cell_type": "markdown",
      "metadata": {
        "id": "7SfADDEWWXCC"
      },
      "source": [
        "There it is.  Model 1 done.  That is the benchmark.  Let's zoom past it.\n",
        "\n",
        "Our model is actually decent.  It is very jagged though.  Let's add data through data augmentation and keep everything else the same for this model"
      ]
    },
    {
      "cell_type": "markdown",
      "metadata": {
        "id": "WCKrCMVZur9f"
      },
      "source": [
        "## Model 2 of 10\n",
        "* How can we help this?\n",
        "  - Data augmentation to the rescue?"
      ]
    },
    {
      "cell_type": "code",
      "metadata": {
        "id": "bpsps1PEOFJx"
      },
      "source": [
        "#Set up datagen\n",
        "train_datagen_2 = ImageDataGenerator(rescale = 1. / 255,\n",
        "                                     rotation_range = 0.2,\n",
        "                                     shear_range = 0.2,\n",
        "                                     zoom_range = 0.2,\n",
        "                                     fill_mode = \"nearest\")\n",
        "\n",
        "test_datagen_2 = ImageDataGenerator(rescale = 1. / 255,\n",
        "                                    rotation_range = 0.2,\n",
        "                                    shear_range = 0.2,\n",
        "                                    zoom_range = 0.2,\n",
        "                                    fill_mode = \"nearest\")"
      ],
      "execution_count": 22,
      "outputs": []
    },
    {
      "cell_type": "code",
      "metadata": {
        "colab": {
          "base_uri": "https://localhost:8080/"
        },
        "id": "kUcNrjF7XtuG",
        "outputId": "f4bc4b1a-ca79-4030-851a-840c53b6821d"
      },
      "source": [
        "#Set up train data\n",
        "train_data_2 = train_datagen_2.flow_from_directory(train_dir,\n",
        "                                                   target_size = (299, 299),\n",
        "                                                   class_mode = \"categorical\",\n",
        "                                                   batch_size = 32,\n",
        "                                                   shuffle = True)\n",
        "\n",
        "test_data_2 = test_datagen_2.flow_from_directory(test_dir,\n",
        "                                                 target_size = (299, 299),\n",
        "                                                 class_mode = \"categorical\",\n",
        "                                                 batch_size = 32,\n",
        "                                                 shuffle = True)"
      ],
      "execution_count": 23,
      "outputs": [
        {
          "output_type": "stream",
          "text": [
            "Found 12121 images belonging to 3 classes.\n",
            "Found 3032 images belonging to 3 classes.\n"
          ],
          "name": "stdout"
        }
      ]
    },
    {
      "cell_type": "code",
      "metadata": {
        "colab": {
          "base_uri": "https://localhost:8080/"
        },
        "id": "tmY4MykEYH30",
        "outputId": "7bff9e3c-48b5-4f5d-8f30-c8b90248a451"
      },
      "source": [
        "#1. Build the model\n",
        "model_2 = Sequential([\n",
        "  Conv2D(10, 3, activation = \"relu\", input_shape = (299, 299, 3)),\n",
        "  MaxPool2D(),\n",
        "  Conv2D(10, 3, activation = \"relu\"),\n",
        "  MaxPool2D(),\n",
        "  Conv2D(10, 3, activation = \"relu\"),\n",
        "  MaxPool2D(),\n",
        "  Flatten(),\n",
        "  Dense(3, activation = \"softmax\")\n",
        "])\n",
        "\n",
        "#2. Compile the model\n",
        "model_2.compile(loss = tf.keras.losses.categorical_crossentropy,\n",
        "                optimizer = Adam(),\n",
        "                metrics = [\"accuracy\"])\n",
        "\n",
        "#3. Fit the model\n",
        "history_2 = model_2.fit(train_data_2,\n",
        "                        epochs = 30,\n",
        "                        validation_data = test_data,\n",
        "                        steps_per_epoch = math.ceil(len(train_data_2) / 32),\n",
        "                        validation_steps = math.ceil(len(test_data_2) / 32))"
      ],
      "execution_count": 24,
      "outputs": [
        {
          "output_type": "stream",
          "text": [
            "Epoch 1/30\n",
            "12/12 [==============================] - 28s 2s/step - loss: 0.9675 - accuracy: 0.5635 - val_loss: 0.7777 - val_accuracy: 0.7188\n",
            "Epoch 2/30\n",
            "12/12 [==============================] - 28s 2s/step - loss: 0.8337 - accuracy: 0.6675 - val_loss: 0.7969 - val_accuracy: 0.6146\n",
            "Epoch 3/30\n",
            "12/12 [==============================] - 28s 2s/step - loss: 0.7861 - accuracy: 0.6181 - val_loss: 0.5727 - val_accuracy: 0.8438\n",
            "Epoch 4/30\n",
            "12/12 [==============================] - 27s 2s/step - loss: 0.6820 - accuracy: 0.6860 - val_loss: 0.4652 - val_accuracy: 0.8333\n",
            "Epoch 5/30\n",
            "12/12 [==============================] - 28s 2s/step - loss: 0.6036 - accuracy: 0.7525 - val_loss: 0.5873 - val_accuracy: 0.6979\n",
            "Epoch 6/30\n",
            "12/12 [==============================] - 27s 2s/step - loss: 0.5755 - accuracy: 0.7260 - val_loss: 0.6287 - val_accuracy: 0.7292\n",
            "Epoch 7/30\n",
            "12/12 [==============================] - 28s 2s/step - loss: 0.6471 - accuracy: 0.7112 - val_loss: 0.6819 - val_accuracy: 0.6562\n",
            "Epoch 8/30\n",
            "12/12 [==============================] - 27s 2s/step - loss: 0.6576 - accuracy: 0.6892 - val_loss: 0.6777 - val_accuracy: 0.6667\n",
            "Epoch 9/30\n",
            "12/12 [==============================] - 27s 2s/step - loss: 0.6142 - accuracy: 0.7229 - val_loss: 0.5419 - val_accuracy: 0.7812\n",
            "Epoch 10/30\n",
            "12/12 [==============================] - 31s 3s/step - loss: 0.5314 - accuracy: 0.7628 - val_loss: 0.4192 - val_accuracy: 0.8021\n",
            "Epoch 11/30\n",
            "12/12 [==============================] - 28s 2s/step - loss: 0.4896 - accuracy: 0.8118 - val_loss: 0.4958 - val_accuracy: 0.7604\n",
            "Epoch 12/30\n",
            "12/12 [==============================] - 28s 2s/step - loss: 0.5574 - accuracy: 0.7775 - val_loss: 0.6667 - val_accuracy: 0.6250\n",
            "Epoch 13/30\n",
            "12/12 [==============================] - 28s 2s/step - loss: 0.4956 - accuracy: 0.7915 - val_loss: 0.4818 - val_accuracy: 0.7500\n",
            "Epoch 14/30\n",
            "12/12 [==============================] - 27s 2s/step - loss: 0.5052 - accuracy: 0.7843 - val_loss: 0.4151 - val_accuracy: 0.8229\n",
            "Epoch 15/30\n",
            "12/12 [==============================] - 28s 2s/step - loss: 0.5469 - accuracy: 0.7853 - val_loss: 0.5202 - val_accuracy: 0.7396\n",
            "Epoch 16/30\n",
            "12/12 [==============================] - 28s 2s/step - loss: 0.4804 - accuracy: 0.7654 - val_loss: 0.5709 - val_accuracy: 0.7083\n",
            "Epoch 17/30\n",
            "12/12 [==============================] - 28s 2s/step - loss: 0.4444 - accuracy: 0.8275 - val_loss: 0.5137 - val_accuracy: 0.7500\n",
            "Epoch 18/30\n",
            "12/12 [==============================] - 28s 2s/step - loss: 0.5886 - accuracy: 0.7200 - val_loss: 0.5240 - val_accuracy: 0.7083\n",
            "Epoch 19/30\n",
            "12/12 [==============================] - 28s 2s/step - loss: 0.4605 - accuracy: 0.7929 - val_loss: 0.4205 - val_accuracy: 0.8646\n",
            "Epoch 20/30\n",
            "12/12 [==============================] - 28s 2s/step - loss: 0.5173 - accuracy: 0.7413 - val_loss: 0.3462 - val_accuracy: 0.8438\n",
            "Epoch 21/30\n",
            "12/12 [==============================] - 28s 2s/step - loss: 0.5443 - accuracy: 0.7574 - val_loss: 0.5327 - val_accuracy: 0.7292\n",
            "Epoch 22/30\n",
            "12/12 [==============================] - 27s 2s/step - loss: 0.4699 - accuracy: 0.8001 - val_loss: 0.4924 - val_accuracy: 0.7812\n",
            "Epoch 23/30\n",
            "12/12 [==============================] - 28s 2s/step - loss: 0.4909 - accuracy: 0.7704 - val_loss: 0.3758 - val_accuracy: 0.8438\n",
            "Epoch 24/30\n",
            "12/12 [==============================] - 28s 2s/step - loss: 0.4257 - accuracy: 0.8393 - val_loss: 0.4084 - val_accuracy: 0.8333\n",
            "Epoch 25/30\n",
            "12/12 [==============================] - 27s 2s/step - loss: 0.4163 - accuracy: 0.8167 - val_loss: 0.3499 - val_accuracy: 0.8438\n",
            "Epoch 26/30\n",
            "12/12 [==============================] - 28s 2s/step - loss: 0.4457 - accuracy: 0.8229 - val_loss: 0.5120 - val_accuracy: 0.7812\n",
            "Epoch 27/30\n",
            "12/12 [==============================] - 28s 2s/step - loss: 0.4984 - accuracy: 0.7575 - val_loss: 0.4187 - val_accuracy: 0.8229\n",
            "Epoch 28/30\n",
            "12/12 [==============================] - 28s 2s/step - loss: 0.4775 - accuracy: 0.7828 - val_loss: 0.4065 - val_accuracy: 0.8438\n",
            "Epoch 29/30\n",
            "12/12 [==============================] - 28s 2s/step - loss: 0.5617 - accuracy: 0.7452 - val_loss: 0.3235 - val_accuracy: 0.8646\n",
            "Epoch 30/30\n",
            "12/12 [==============================] - 28s 2s/step - loss: 0.4135 - accuracy: 0.8206 - val_loss: 0.4943 - val_accuracy: 0.7812\n"
          ],
          "name": "stdout"
        }
      ]
    },
    {
      "cell_type": "code",
      "metadata": {
        "colab": {
          "base_uri": "https://localhost:8080/",
          "height": 573
        },
        "id": "-o7hQyq6ZLZb",
        "outputId": "53b55133-59c9-4280-dcb4-2d184e7f6228"
      },
      "source": [
        "plot_loss_curves(history_2)"
      ],
      "execution_count": 25,
      "outputs": [
        {
          "output_type": "display_data",
          "data": {
            "image/png": "[encoded data removed]",
            "text/plain": [
              "<Figure size 432x288 with 1 Axes>"
            ]
          },
          "metadata": {
            "tags": [],
            "needs_background": "light"
          }
        },
        {
          "output_type": "display_data",
          "data": {
            "image/png": "[encoded data removed]",
            "text/plain": [
              "<Figure size 432x288 with 1 Axes>"
            ]
          },
          "metadata": {
            "tags": [],
            "needs_background": "light"
          }
        }
      ]
    },
    {
      "cell_type": "markdown",
      "metadata": {
        "id": "F39WmmgLqEt8"
      },
      "source": [
        "## Model 3 of 10\n",
        "- Data Augmentation seems to have kept this the same.\n",
        "- Let's go try a different archtiecture this time."
      ]
    },
    {
      "cell_type": "code",
      "metadata": {
        "id": "BpqmTqM0ZRWW"
      },
      "source": [
        "#Set up datagen\n",
        "train_datagen_3 = ImageDataGenerator(rescale = 1. / 255,\n",
        "                                     rotation_range = 0.2,\n",
        "                                     shear_range = 0.2,\n",
        "                                     zoom_range = 0.2,\n",
        "                                     fill_mode = \"nearest\")\n",
        "\n",
        "test_datagen_3 = ImageDataGenerator(rescale = 1. / 255,\n",
        "                                    rotation_range = 0.2,\n",
        "                                    shear_range = 0.2,\n",
        "                                    zoom_range = 0.2,\n",
        "                                    fill_mode = \"nearest\")"
      ],
      "execution_count": 26,
      "outputs": []
    },
    {
      "cell_type": "code",
      "metadata": {
        "id": "9MqbN2s5qqaH",
        "colab": {
          "base_uri": "https://localhost:8080/"
        },
        "outputId": "dc6a1144-788f-4745-ff2b-29c8e1d1607c"
      },
      "source": [
        "#Set up train data\n",
        "train_data_3 = train_datagen_3.flow_from_directory(train_dir,\n",
        "                                                   target_size = (299, 299),\n",
        "                                                   class_mode = \"categorical\",\n",
        "                                                   batch_size = 32,\n",
        "                                                   shuffle = True)\n",
        "\n",
        "test_data_3 = test_datagen_3.flow_from_directory(test_dir,\n",
        "                                                 target_size = (299, 299),\n",
        "                                                 class_mode = \"categorical\",\n",
        "                                                 batch_size = 32,\n",
        "                                                 shuffle = True)"
      ],
      "execution_count": 27,
      "outputs": [
        {
          "output_type": "stream",
          "text": [
            "Found 12121 images belonging to 3 classes.\n",
            "Found 3032 images belonging to 3 classes.\n"
          ],
          "name": "stdout"
        }
      ]
    },
    {
      "cell_type": "code",
      "metadata": {
        "id": "2Dty7IpDrArN",
        "colab": {
          "base_uri": "https://localhost:8080/"
        },
        "outputId": "c18079b0-1f5c-40df-8c29-92152b6def15"
      },
      "source": [
        "#1 Build the model\n",
        "model_3 = Sequential([\n",
        "  Conv2D(32, 3, activation = \"relu\", input_shape = (299, 299, 3)),\n",
        "  MaxPool2D(),\n",
        "  Conv2D(32, 3, activation = \"relu\"),\n",
        "  MaxPool2D(),\n",
        "  Conv2D(32, 3, activation = \"relu\"),\n",
        "  MaxPool2D(),\n",
        "  Conv2D(32, 3, activation = \"relu\"),\n",
        "  MaxPool2D(),\n",
        "  Flatten(),\n",
        "  Dense(3, activation = \"softmax\")\n",
        "])\n",
        "\n",
        "#2 Compile the model\n",
        "model_3.compile(loss = tf.keras.losses.categorical_crossentropy,\n",
        "                optimizer = Adam(),\n",
        "                metrics = [\"accuracy\"])\n",
        "\n",
        "#3 Fit the model\n",
        "history_3 = model_3.fit(train_data_3,\n",
        "                        epochs = 30,\n",
        "                        validation_data = test_data_3,\n",
        "                        steps_per_epoch = len(train_data_3) / 32,\n",
        "                        validation_steps = len(test_data_3) / 32)"
      ],
      "execution_count": 28,
      "outputs": [
        {
          "output_type": "stream",
          "text": [
            "Epoch 1/30\n",
            "11/11 [==============================] - 60s 5s/step - loss: 0.9277 - accuracy: 0.6588 - val_loss: 0.9266 - val_accuracy: 0.5938\n",
            "Epoch 2/30\n",
            "11/11 [==============================] - 54s 4s/step - loss: 0.8822 - accuracy: 0.6488 - val_loss: 0.7675 - val_accuracy: 0.7083\n",
            "Epoch 3/30\n",
            "11/11 [==============================] - 52s 4s/step - loss: 0.7990 - accuracy: 0.6956 - val_loss: 0.7389 - val_accuracy: 0.6875\n",
            "Epoch 4/30\n",
            "11/11 [==============================] - 53s 4s/step - loss: 0.8307 - accuracy: 0.6087 - val_loss: 0.8637 - val_accuracy: 0.6250\n",
            "Epoch 5/30\n",
            "11/11 [==============================] - 54s 5s/step - loss: 0.7864 - accuracy: 0.6731 - val_loss: 0.6577 - val_accuracy: 0.6667\n",
            "Epoch 6/30\n",
            "11/11 [==============================] - 53s 4s/step - loss: 0.6584 - accuracy: 0.6885 - val_loss: 0.5291 - val_accuracy: 0.7708\n",
            "Epoch 7/30\n",
            "11/11 [==============================] - 52s 4s/step - loss: 0.5818 - accuracy: 0.7126 - val_loss: 0.6703 - val_accuracy: 0.6875\n",
            "Epoch 8/30\n",
            "11/11 [==============================] - 52s 4s/step - loss: 0.6303 - accuracy: 0.6908 - val_loss: 0.6634 - val_accuracy: 0.6458\n",
            "Epoch 9/30\n",
            "11/11 [==============================] - 52s 4s/step - loss: 0.6077 - accuracy: 0.7015 - val_loss: 0.6187 - val_accuracy: 0.6875\n",
            "Epoch 10/30\n",
            "11/11 [==============================] - 51s 4s/step - loss: 0.5657 - accuracy: 0.7335 - val_loss: 0.6058 - val_accuracy: 0.6979\n",
            "Epoch 11/30\n",
            "11/11 [==============================] - 52s 4s/step - loss: 0.5954 - accuracy: 0.7297 - val_loss: 0.6154 - val_accuracy: 0.6771\n",
            "Epoch 12/30\n",
            "11/11 [==============================] - 53s 4s/step - loss: 0.5885 - accuracy: 0.7249 - val_loss: 0.5531 - val_accuracy: 0.7500\n",
            "Epoch 13/30\n",
            "11/11 [==============================] - 52s 4s/step - loss: 0.5758 - accuracy: 0.7465 - val_loss: 0.5872 - val_accuracy: 0.7500\n",
            "Epoch 14/30\n",
            "11/11 [==============================] - 52s 4s/step - loss: 0.5740 - accuracy: 0.7494 - val_loss: 0.5881 - val_accuracy: 0.7500\n",
            "Epoch 15/30\n",
            "11/11 [==============================] - 52s 4s/step - loss: 0.6110 - accuracy: 0.7271 - val_loss: 0.4846 - val_accuracy: 0.8333\n",
            "Epoch 16/30\n",
            "11/11 [==============================] - 52s 4s/step - loss: 0.6738 - accuracy: 0.7117 - val_loss: 0.5520 - val_accuracy: 0.7292\n",
            "Epoch 17/30\n",
            "11/11 [==============================] - 52s 4s/step - loss: 0.5285 - accuracy: 0.7484 - val_loss: 0.5115 - val_accuracy: 0.7396\n",
            "Epoch 18/30\n",
            "11/11 [==============================] - 52s 4s/step - loss: 0.5728 - accuracy: 0.7154 - val_loss: 0.6889 - val_accuracy: 0.6562\n",
            "Epoch 19/30\n",
            "11/11 [==============================] - 52s 4s/step - loss: 0.4349 - accuracy: 0.8257 - val_loss: 0.6289 - val_accuracy: 0.7500\n",
            "Epoch 20/30\n",
            "11/11 [==============================] - 52s 4s/step - loss: 0.4662 - accuracy: 0.8041 - val_loss: 0.5052 - val_accuracy: 0.7188\n",
            "Epoch 21/30\n",
            "11/11 [==============================] - 52s 4s/step - loss: 0.5009 - accuracy: 0.7994 - val_loss: 0.4572 - val_accuracy: 0.8229\n",
            "Epoch 22/30\n",
            "11/11 [==============================] - 52s 4s/step - loss: 0.3800 - accuracy: 0.8343 - val_loss: 0.5568 - val_accuracy: 0.7604\n",
            "Epoch 23/30\n",
            "11/11 [==============================] - 52s 4s/step - loss: 0.4756 - accuracy: 0.8055 - val_loss: 0.5139 - val_accuracy: 0.7812\n",
            "Epoch 24/30\n",
            "11/11 [==============================] - 52s 4s/step - loss: 0.4761 - accuracy: 0.7718 - val_loss: 0.4108 - val_accuracy: 0.7812\n",
            "Epoch 25/30\n",
            "11/11 [==============================] - 52s 4s/step - loss: 0.4477 - accuracy: 0.8047 - val_loss: 0.5226 - val_accuracy: 0.7708\n",
            "Epoch 26/30\n",
            "11/11 [==============================] - 52s 4s/step - loss: 0.3926 - accuracy: 0.8306 - val_loss: 0.6486 - val_accuracy: 0.6979\n",
            "Epoch 27/30\n",
            "11/11 [==============================] - 52s 4s/step - loss: 0.4838 - accuracy: 0.7676 - val_loss: 0.5049 - val_accuracy: 0.7604\n",
            "Epoch 28/30\n",
            "11/11 [==============================] - 52s 4s/step - loss: 0.5004 - accuracy: 0.7826 - val_loss: 0.6061 - val_accuracy: 0.6458\n",
            "Epoch 29/30\n",
            "11/11 [==============================] - 52s 4s/step - loss: 0.5149 - accuracy: 0.7546 - val_loss: 0.4300 - val_accuracy: 0.8125\n",
            "Epoch 30/30\n",
            "11/11 [==============================] - 52s 4s/step - loss: 0.4932 - accuracy: 0.7599 - val_loss: 0.4529 - val_accuracy: 0.8542\n"
          ],
          "name": "stdout"
        }
      ]
    },
    {
      "cell_type": "code",
      "metadata": {
        "id": "_94T4pqOsGOt",
        "colab": {
          "base_uri": "https://localhost:8080/",
          "height": 573
        },
        "outputId": "ec5b69ac-f56b-406c-ddaa-880d8109d7af"
      },
      "source": [
        "plot_loss_curves(history_3)"
      ],
      "execution_count": 29,
      "outputs": [
        {
          "output_type": "display_data",
          "data": {
            "image/png": "[encoded data removed]",
            "text/plain": [
              "<Figure size 432x288 with 1 Axes>"
            ]
          },
          "metadata": {
            "tags": [],
            "needs_background": "light"
          }
        },
        {
          "output_type": "display_data",
          "data": {
            "image/png": "[encoded data removed]",
            "text/plain": [
              "<Figure size 432x288 with 1 Axes>"
            ]
          },
          "metadata": {
            "tags": [],
            "needs_background": "light"
          }
        }
      ]
    },
    {
      "cell_type": "markdown",
      "metadata": {
        "id": "wab04a17vF-s"
      },
      "source": [
        "## Model 4 of 10\n"
      ]
    },
    {
      "cell_type": "code",
      "metadata": {
        "id": "x-uU5E3zJAZT"
      },
      "source": [
        "#Set up datagen\n",
        "train_datagen_4 = ImageDataGenerator(rescale = 1 / 255.,\n",
        "                                     width_shift_range = 0.2,\n",
        "                                     rotation_range = 0.2,\n",
        "                                     zoom_range = 0.2,\n",
        "                                     shear_range = 0.2)\n",
        "\n",
        "test_datagen_4 = ImageDataGenerator(rescale = 1 / 255.,\n",
        "                                    width_shift_range = 0.2,\n",
        "                                    rotation_range = 0.2,\n",
        "                                    zoom_range = 0.2,\n",
        "                                    shear_range = 0.2)"
      ],
      "execution_count": 30,
      "outputs": []
    },
    {
      "cell_type": "code",
      "metadata": {
        "id": "M56t30KmJkct",
        "outputId": "ec3ebe88-889b-4ed9-be4e-57e2cdf38a20",
        "colab": {
          "base_uri": "https://localhost:8080/"
        }
      },
      "source": [
        "#Set up train data\n",
        "train_data_4 = train_datagen_4.flow_from_directory(train_dir,\n",
        "                                                   class_mode = \"categorical\",\n",
        "                                                   target_size = (299, 299),\n",
        "                                                   batch_size = 32,\n",
        "                                                   shuffle = True)\n",
        "\n",
        "test_data_4 = test_datagen_4.flow_from_directory(test_dir,\n",
        "                                              class_mode = \"categorical\",\n",
        "                                              target_size = (299, 299),\n",
        "                                              batch_size = 32,\n",
        "                                              shuffle = True)"
      ],
      "execution_count": 31,
      "outputs": [
        {
          "output_type": "stream",
          "text": [
            "Found 12121 images belonging to 3 classes.\n",
            "Found 3032 images belonging to 3 classes.\n"
          ],
          "name": "stdout"
        }
      ]
    },
    {
      "cell_type": "code",
      "metadata": {
        "id": "d0jzourDJ-qN"
      },
      "source": [
        "#1. Build the model\n",
        "model_4 = tf.keras.models.Sequential([\n",
        "  Conv2D(10, 3, activation = \"relu\", input_shape = (299, 299, 3)),\n",
        "  MaxPool2D(),\n",
        "  Conv2D(32, 3, activation = \"relu\"),\n",
        "  MaxPool2D(),\n",
        "  Conv2D(64, 3, activation = \"relu\"),\n",
        "  MaxPool2D(),\n",
        "  Flatten(),\n",
        "  Dense(3, activation = \"softmax\")\n",
        "])"
      ],
      "execution_count": 32,
      "outputs": []
    },
    {
      "cell_type": "code",
      "metadata": {
        "id": "pnrIYiXNKa5C"
      },
      "source": [
        "#2. Compile the model\n",
        "model_4.compile(loss = tf.keras.losses.categorical_crossentropy,\n",
        "                optimizer = tf.keras.optimizers.Adam(),\n",
        "                metrics = [\"accuracy\"])"
      ],
      "execution_count": 33,
      "outputs": []
    },
    {
      "cell_type": "code",
      "metadata": {
        "id": "vwYJChnDKlA7",
        "outputId": "4d9dcaaa-d6e2-4b71-e9a2-79c48a7eaaa1",
        "colab": {
          "base_uri": "https://localhost:8080/"
        }
      },
      "source": [
        "#3. Fit\n",
        "history_4 = model_4.fit(train_data_4,\n",
        "                        epochs = 30,\n",
        "                        steps_per_epoch = len(train_data_4) / 32,\n",
        "                        validation_data = test_data_4,\n",
        "                        validation_steps = len(test_data_4) / 32)"
      ],
      "execution_count": 34,
      "outputs": [
        {
          "output_type": "stream",
          "text": [
            "Epoch 1/30\n",
            "11/11 [==============================] - 39s 3s/step - loss: 1.2868 - accuracy: 0.5521 - val_loss: 1.0774 - val_accuracy: 0.6562\n",
            "Epoch 2/30\n",
            "11/11 [==============================] - 37s 3s/step - loss: 0.8704 - accuracy: 0.6561 - val_loss: 0.7166 - val_accuracy: 0.7500\n",
            "Epoch 3/30\n",
            "11/11 [==============================] - 38s 3s/step - loss: 0.7054 - accuracy: 0.7155 - val_loss: 0.7021 - val_accuracy: 0.6146\n",
            "Epoch 4/30\n",
            "11/11 [==============================] - 38s 3s/step - loss: 0.7244 - accuracy: 0.6716 - val_loss: 0.7728 - val_accuracy: 0.6042\n",
            "Epoch 5/30\n",
            "11/11 [==============================] - 37s 3s/step - loss: 0.6432 - accuracy: 0.7288 - val_loss: 0.6259 - val_accuracy: 0.7396\n",
            "Epoch 6/30\n",
            "11/11 [==============================] - 38s 3s/step - loss: 0.6067 - accuracy: 0.7230 - val_loss: 0.6101 - val_accuracy: 0.7500\n",
            "Epoch 7/30\n",
            "11/11 [==============================] - 37s 3s/step - loss: 0.5785 - accuracy: 0.7243 - val_loss: 0.6569 - val_accuracy: 0.7083\n",
            "Epoch 8/30\n",
            "11/11 [==============================] - 37s 3s/step - loss: 0.5757 - accuracy: 0.7283 - val_loss: 0.6480 - val_accuracy: 0.6875\n",
            "Epoch 9/30\n",
            "11/11 [==============================] - 37s 3s/step - loss: 0.6682 - accuracy: 0.6878 - val_loss: 0.5277 - val_accuracy: 0.8125\n",
            "Epoch 10/30\n",
            "11/11 [==============================] - 37s 3s/step - loss: 0.4574 - accuracy: 0.8217 - val_loss: 0.5226 - val_accuracy: 0.7708\n",
            "Epoch 11/30\n",
            "11/11 [==============================] - 38s 3s/step - loss: 0.6147 - accuracy: 0.7493 - val_loss: 0.6236 - val_accuracy: 0.6667\n",
            "Epoch 12/30\n",
            "11/11 [==============================] - 37s 3s/step - loss: 0.5604 - accuracy: 0.7625 - val_loss: 0.4936 - val_accuracy: 0.7917\n",
            "Epoch 13/30\n",
            "11/11 [==============================] - 42s 4s/step - loss: 0.4999 - accuracy: 0.7844 - val_loss: 0.5908 - val_accuracy: 0.7500\n",
            "Epoch 14/30\n",
            "11/11 [==============================] - 37s 3s/step - loss: 0.5313 - accuracy: 0.7213 - val_loss: 0.5093 - val_accuracy: 0.7917\n",
            "Epoch 15/30\n",
            "11/11 [==============================] - 37s 3s/step - loss: 0.5957 - accuracy: 0.7606 - val_loss: 0.5511 - val_accuracy: 0.7812\n",
            "Epoch 16/30\n",
            "11/11 [==============================] - 38s 3s/step - loss: 0.5665 - accuracy: 0.7524 - val_loss: 0.6695 - val_accuracy: 0.7188\n",
            "Epoch 17/30\n",
            "11/11 [==============================] - 37s 3s/step - loss: 0.5848 - accuracy: 0.7738 - val_loss: 0.5206 - val_accuracy: 0.8229\n",
            "Epoch 18/30\n",
            "11/11 [==============================] - 38s 3s/step - loss: 0.5042 - accuracy: 0.7667 - val_loss: 0.5546 - val_accuracy: 0.7500\n",
            "Epoch 19/30\n",
            "11/11 [==============================] - 38s 3s/step - loss: 0.4952 - accuracy: 0.7882 - val_loss: 0.4961 - val_accuracy: 0.8125\n",
            "Epoch 20/30\n",
            "11/11 [==============================] - 38s 3s/step - loss: 0.5362 - accuracy: 0.7753 - val_loss: 0.5513 - val_accuracy: 0.7604\n",
            "Epoch 21/30\n",
            "11/11 [==============================] - 38s 3s/step - loss: 0.4722 - accuracy: 0.7500 - val_loss: 0.5232 - val_accuracy: 0.7500\n",
            "Epoch 22/30\n",
            "11/11 [==============================] - 37s 3s/step - loss: 0.5140 - accuracy: 0.7828 - val_loss: 0.7057 - val_accuracy: 0.6562\n",
            "Epoch 23/30\n",
            "11/11 [==============================] - 38s 3s/step - loss: 0.5239 - accuracy: 0.7717 - val_loss: 0.5312 - val_accuracy: 0.7604\n",
            "Epoch 24/30\n",
            "11/11 [==============================] - 38s 3s/step - loss: 0.5671 - accuracy: 0.7426 - val_loss: 0.5058 - val_accuracy: 0.7708\n",
            "Epoch 25/30\n",
            "11/11 [==============================] - 37s 3s/step - loss: 0.4919 - accuracy: 0.7851 - val_loss: 0.5611 - val_accuracy: 0.7500\n",
            "Epoch 26/30\n",
            "11/11 [==============================] - 37s 3s/step - loss: 0.4976 - accuracy: 0.7560 - val_loss: 0.5152 - val_accuracy: 0.7292\n",
            "Epoch 27/30\n",
            "11/11 [==============================] - 37s 3s/step - loss: 0.4762 - accuracy: 0.7856 - val_loss: 0.5981 - val_accuracy: 0.6979\n",
            "Epoch 28/30\n",
            "11/11 [==============================] - 37s 3s/step - loss: 0.5193 - accuracy: 0.7795 - val_loss: 0.4429 - val_accuracy: 0.8333\n",
            "Epoch 29/30\n",
            "11/11 [==============================] - 38s 3s/step - loss: 0.5474 - accuracy: 0.7474 - val_loss: 0.5419 - val_accuracy: 0.7500\n",
            "Epoch 30/30\n",
            "11/11 [==============================] - 37s 3s/step - loss: 0.4985 - accuracy: 0.7796 - val_loss: 0.4161 - val_accuracy: 0.8229\n"
          ],
          "name": "stdout"
        }
      ]
    },
    {
      "cell_type": "code",
      "metadata": {
        "id": "xVyztaiMf_Im",
        "outputId": "babdaeef-64cd-4863-da1c-3045ef648c73",
        "colab": {
          "base_uri": "https://localhost:8080/",
          "height": 573
        }
      },
      "source": [
        "plot_loss_curves(history_4)"
      ],
      "execution_count": 35,
      "outputs": [
        {
          "output_type": "display_data",
          "data": {
            "image/png": "[encoded data removed]",
            "text/plain": [
              "<Figure size 432x288 with 1 Axes>"
            ]
          },
          "metadata": {
            "tags": [],
            "needs_background": "light"
          }
        },
        {
          "output_type": "display_data",
          "data": {
            "image/png": "[encoded data removed]",
            "text/plain": [
              "<Figure size 432x288 with 1 Axes>"
            ]
          },
          "metadata": {
            "tags": [],
            "needs_background": "light"
          }
        }
      ]
    },
    {
      "cell_type": "markdown",
      "metadata": {
        "id": "pxBYVUMQvJJj"
      },
      "source": [
        "## Model 5 of 10\n",
        "\n",
        "Efficient Net B0 Feature Extraction"
      ]
    },
    {
      "cell_type": "code",
      "metadata": {
        "id": "eewehA3Z_-mp",
        "outputId": "89a7535f-70a5-476d-d5b8-70e0049e7543",
        "colab": {
          "base_uri": "https://localhost:8080/"
        }
      },
      "source": [
        "#1. Set up train data\n",
        "train_data_5 = tf.keras.preprocessing.image_dataset_from_directory(train_dir,\n",
        "                                                                   label_mode = \"categorical\",\n",
        "                                                                   image_size = (224, 224))\n",
        "\n",
        "test_data_5 = tf.keras.preprocessing.image_dataset_from_directory(test_dir,\n",
        "                                                                     label_mode = \"categorical\",\n",
        "                                                                     image_size = (224, 224))"
      ],
      "execution_count": 36,
      "outputs": [
        {
          "output_type": "stream",
          "text": [
            "Found 12121 files belonging to 3 classes.\n",
            "Found 3032 files belonging to 3 classes.\n"
          ],
          "name": "stdout"
        }
      ]
    },
    {
      "cell_type": "code",
      "metadata": {
        "id": "XCa6w-E9KxCx",
        "outputId": "4655c805-e4b1-46fa-bed0-56eb2789c11f",
        "colab": {
          "base_uri": "https://localhost:8080/"
        }
      },
      "source": [
        "#2 .Import base model\n",
        "base_model = tf.keras.applications.EfficientNetB0(include_top = False)\n",
        "\n",
        "base_model.trainable = False"
      ],
      "execution_count": 37,
      "outputs": [
        {
          "output_type": "stream",
          "text": [
            "Downloading data from https://storage.googleapis.com/keras-applications/efficientnetb0_notop.h5\n",
            "16711680/16705208 [==============================] - 0s 0us/step\n"
          ],
          "name": "stdout"
        }
      ]
    },
    {
      "cell_type": "code",
      "metadata": {
        "id": "LUagK9X9LEpw"
      },
      "source": [
        "from tensorflow.keras.layers.experimental import preprocessing\n",
        "from tensorflow.keras.models import Sequential\n",
        "from tensorflow.keras import layers\n",
        "\n",
        "#3. Make the data augmentation layer\n",
        "data_augmentation = Sequential([\n",
        "  preprocessing.RandomFlip(\"horizontal\"),\n",
        "  preprocessing.RandomZoom(0.2),\n",
        "  preprocessing.RandomWidth(0.2),\n",
        "  preprocessing.RandomHeight(0.2),\n",
        "  preprocessing.RandomZoom(0.2)                    \n",
        "])"
      ],
      "execution_count": 38,
      "outputs": []
    },
    {
      "cell_type": "code",
      "metadata": {
        "id": "h3hWi0qxK8F-"
      },
      "source": [
        "#4. Create the layers\n",
        "inputs = layers.Input(shape = (224, 224, 3))\n",
        "x = data_augmentation(inputs)\n",
        "x = base_model(x, training = False)\n",
        "x = layers.GlobalAveragePooling2D()(x)\n",
        "outputs = layers.Dense(3, activation = \"softmax\")(x)"
      ],
      "execution_count": 39,
      "outputs": []
    },
    {
      "cell_type": "code",
      "metadata": {
        "id": "dLpdkWWuLyhQ"
      },
      "source": [
        "#5. Build the model\n",
        "model_5 = tf.keras.Model(inputs, outputs)"
      ],
      "execution_count": 40,
      "outputs": []
    },
    {
      "cell_type": "code",
      "metadata": {
        "id": "MmH--dIqL1rS"
      },
      "source": [
        "#6. Compile \n",
        "model_5.compile(loss = tf.keras.losses.categorical_crossentropy,\n",
        "                optimizer = tf.keras.optimizers.Adam(),\n",
        "                metrics = [\"accuracy\"])"
      ],
      "execution_count": 41,
      "outputs": []
    },
    {
      "cell_type": "code",
      "metadata": {
        "id": "io9icZZrL_3d",
        "outputId": "1d43d2fa-bc92-4550-9b5e-33a8d6bf6646",
        "colab": {
          "base_uri": "https://localhost:8080/"
        }
      },
      "source": [
        "#7. Fit\n",
        "history_5 = model_5.fit(train_data_5,\n",
        "                        epochs = 30,\n",
        "                        steps_per_epoch = len(train_data_5) / 32,\n",
        "                        validation_data = test_data_5,\n",
        "                        validation_steps = len(test_data_5) / 32)"
      ],
      "execution_count": 42,
      "outputs": [
        {
          "output_type": "stream",
          "text": [
            "Epoch 1/30\n",
            "11/11 [==============================] - 48s 3s/step - loss: 1.0643 - accuracy: 0.4629 - val_loss: 0.7607 - val_accuracy: 0.6771\n",
            "Epoch 2/30\n",
            "11/11 [==============================] - 43s 4s/step - loss: 0.7028 - accuracy: 0.7013 - val_loss: 0.5909 - val_accuracy: 0.7812\n",
            "Epoch 3/30\n",
            "11/11 [==============================] - 42s 4s/step - loss: 0.5676 - accuracy: 0.8251 - val_loss: 0.5816 - val_accuracy: 0.7083\n",
            "Epoch 4/30\n",
            "11/11 [==============================] - 42s 4s/step - loss: 0.4797 - accuracy: 0.8124 - val_loss: 0.5638 - val_accuracy: 0.7500\n",
            "Epoch 5/30\n",
            "11/11 [==============================] - 41s 4s/step - loss: 0.5153 - accuracy: 0.7616 - val_loss: 0.4802 - val_accuracy: 0.7812\n",
            "Epoch 6/30\n",
            "11/11 [==============================] - 41s 3s/step - loss: 0.4761 - accuracy: 0.7534 - val_loss: 0.4317 - val_accuracy: 0.8229\n",
            "Epoch 7/30\n",
            "11/11 [==============================] - 41s 4s/step - loss: 0.4718 - accuracy: 0.7940 - val_loss: 0.4350 - val_accuracy: 0.8438\n",
            "Epoch 8/30\n",
            "11/11 [==============================] - 41s 4s/step - loss: 0.4883 - accuracy: 0.8042 - val_loss: 0.3619 - val_accuracy: 0.8750\n",
            "Epoch 9/30\n",
            "11/11 [==============================] - 42s 4s/step - loss: 0.3844 - accuracy: 0.8614 - val_loss: 0.3638 - val_accuracy: 0.8646\n",
            "Epoch 10/30\n",
            "11/11 [==============================] - 43s 4s/step - loss: 0.3930 - accuracy: 0.8529 - val_loss: 0.3801 - val_accuracy: 0.8542\n",
            "Epoch 11/30\n",
            "11/11 [==============================] - 44s 4s/step - loss: 0.3346 - accuracy: 0.8816 - val_loss: 0.3424 - val_accuracy: 0.8750\n",
            "Epoch 12/30\n",
            "11/11 [==============================] - 42s 4s/step - loss: 0.3572 - accuracy: 0.8687 - val_loss: 0.3461 - val_accuracy: 0.8958\n",
            "Epoch 13/30\n",
            "11/11 [==============================] - 44s 4s/step - loss: 0.3435 - accuracy: 0.8571 - val_loss: 0.3232 - val_accuracy: 0.9167\n",
            "Epoch 14/30\n",
            "11/11 [==============================] - 41s 4s/step - loss: 0.3757 - accuracy: 0.8657 - val_loss: 0.3312 - val_accuracy: 0.8750\n",
            "Epoch 15/30\n",
            "11/11 [==============================] - 43s 4s/step - loss: 0.3121 - accuracy: 0.8981 - val_loss: 0.3359 - val_accuracy: 0.8750\n",
            "Epoch 16/30\n",
            "11/11 [==============================] - 41s 4s/step - loss: 0.3354 - accuracy: 0.8762 - val_loss: 0.3422 - val_accuracy: 0.8542\n",
            "Epoch 17/30\n",
            "11/11 [==============================] - 43s 4s/step - loss: 0.3283 - accuracy: 0.8876 - val_loss: 0.2887 - val_accuracy: 0.8750\n",
            "Epoch 18/30\n",
            "11/11 [==============================] - 41s 4s/step - loss: 0.3715 - accuracy: 0.8896 - val_loss: 0.2703 - val_accuracy: 0.9271\n",
            "Epoch 19/30\n",
            "11/11 [==============================] - 42s 4s/step - loss: 0.3699 - accuracy: 0.8774 - val_loss: 0.3884 - val_accuracy: 0.8229\n",
            "Epoch 20/30\n",
            "11/11 [==============================] - 40s 3s/step - loss: 0.4024 - accuracy: 0.8473 - val_loss: 0.3470 - val_accuracy: 0.8646\n",
            "Epoch 21/30\n",
            "11/11 [==============================] - 40s 3s/step - loss: 0.3471 - accuracy: 0.8724 - val_loss: 0.3798 - val_accuracy: 0.8438\n",
            "Epoch 22/30\n",
            "11/11 [==============================] - 40s 3s/step - loss: 0.2851 - accuracy: 0.9037 - val_loss: 0.3042 - val_accuracy: 0.8958\n",
            "Epoch 23/30\n",
            "11/11 [==============================] - 40s 3s/step - loss: 0.4071 - accuracy: 0.8498 - val_loss: 0.2823 - val_accuracy: 0.8646\n",
            "Epoch 24/30\n",
            "11/11 [==============================] - 43s 4s/step - loss: 0.3492 - accuracy: 0.8489 - val_loss: 0.3374 - val_accuracy: 0.8750\n",
            "Epoch 25/30\n",
            "11/11 [==============================] - 42s 4s/step - loss: 0.3118 - accuracy: 0.8946 - val_loss: 0.2404 - val_accuracy: 0.9479\n",
            "Epoch 26/30\n",
            "11/11 [==============================] - 42s 4s/step - loss: 0.3163 - accuracy: 0.8630 - val_loss: 0.3403 - val_accuracy: 0.8542\n",
            "Epoch 27/30\n",
            "11/11 [==============================] - 41s 4s/step - loss: 0.3326 - accuracy: 0.8718 - val_loss: 0.3205 - val_accuracy: 0.8542\n",
            "Epoch 28/30\n",
            "11/11 [==============================] - 43s 4s/step - loss: 0.3363 - accuracy: 0.8659 - val_loss: 0.3364 - val_accuracy: 0.8646\n",
            "Epoch 29/30\n",
            "11/11 [==============================] - 41s 4s/step - loss: 0.3298 - accuracy: 0.8716 - val_loss: 0.3227 - val_accuracy: 0.8750\n",
            "Epoch 30/30\n",
            "11/11 [==============================] - 38s 3s/step - loss: 0.2867 - accuracy: 0.8992 - val_loss: 0.2822 - val_accuracy: 0.8958\n"
          ],
          "name": "stdout"
        }
      ]
    },
    {
      "cell_type": "code",
      "metadata": {
        "id": "mZ5F1jv8f8JJ",
        "outputId": "20b5a08f-7882-4050-d1db-4a277c5d3812",
        "colab": {
          "base_uri": "https://localhost:8080/",
          "height": 573
        }
      },
      "source": [
        "plot_loss_curves(history_5)"
      ],
      "execution_count": 43,
      "outputs": [
        {
          "output_type": "display_data",
          "data": {
            "image/png": "[encoded data removed]",
            "text/plain": [
              "<Figure size 432x288 with 1 Axes>"
            ]
          },
          "metadata": {
            "tags": [],
            "needs_background": "light"
          }
        },
        {
          "output_type": "display_data",
          "data": {
            "image/png": "[encoded data removed]",
            "text/plain": [
              "<Figure size 432x288 with 1 Axes>"
            ]
          },
          "metadata": {
            "tags": [],
            "needs_background": "light"
          }
        }
      ]
    },
    {
      "cell_type": "markdown",
      "metadata": {
        "id": "JF-Z3VnZvK4A"
      },
      "source": [
        "## Model 6 of 10 \n",
        "\n",
        "Efficient Net B0 Fine Tuning"
      ]
    },
    {
      "cell_type": "code",
      "metadata": {
        "id": "i0AoH8Rldl4b",
        "outputId": "774416c4-4801-4bff-cbea-bffe9be3500a",
        "colab": {
          "base_uri": "https://localhost:8080/"
        }
      },
      "source": [
        "#1 Train data\n",
        "train_data_6 = tf.keras.preprocessing.image_dataset_from_directory(train_dir,\n",
        "                                                                      label_mode = \"categorical\",\n",
        "                                                                      image_size = (224, 224))\n",
        "\n",
        "test_data_6 = tf.keras.preprocessing.image_dataset_from_directory(test_dir,\n",
        "                                                                     label_mode = \"categorical\",\n",
        "                                                                     image_size = (224, 224))"
      ],
      "execution_count": 44,
      "outputs": [
        {
          "output_type": "stream",
          "text": [
            "Found 12121 files belonging to 3 classes.\n",
            "Found 3032 files belonging to 3 classes.\n"
          ],
          "name": "stdout"
        }
      ]
    },
    {
      "cell_type": "code",
      "metadata": {
        "id": "TMOOL9I2d9xs"
      },
      "source": [
        "#2. Make a base model\n",
        "base_model = tf.keras.applications.EfficientNetB0(include_top = False)\n",
        "\n",
        "base_model.trainable = True\n",
        "\n",
        "for layer in base_model.layers[:-15]:\n",
        "  layer.trainable = False"
      ],
      "execution_count": 45,
      "outputs": []
    },
    {
      "cell_type": "code",
      "metadata": {
        "id": "7EML-7sjeMbA"
      },
      "source": [
        "from tensorflow.keras.layers.experimental import preprocessing\n",
        "from tensorflow.keras.models import Sequential\n",
        "from tensorflow.keras import layers\n",
        "\n",
        "#3. Make an augmented layer\n",
        "data_augmentation = Sequential([\n",
        "  preprocessing.RandomFlip(\"horizontal\"),\n",
        "  preprocessing.RandomWidth(0.2),\n",
        "  preprocessing.RandomHeight(0.2),\n",
        "  preprocessing.RandomRotation(0.2),\n",
        "  preprocessing.RandomZoom(0.2)\n",
        "])"
      ],
      "execution_count": 46,
      "outputs": []
    },
    {
      "cell_type": "code",
      "metadata": {
        "id": "oKdc8q2NeznK"
      },
      "source": [
        "#4. Write the layers\n",
        "inputs = layers.Input(shape = (224, 224, 3))\n",
        "x = data_augmentation(inputs)\n",
        "x = base_model(x, training = False)\n",
        "x = layers.GlobalAveragePooling2D()(x)\n",
        "outputs = layers.Dense(3, activation = \"softmax\")(x)"
      ],
      "execution_count": 47,
      "outputs": []
    },
    {
      "cell_type": "code",
      "metadata": {
        "id": "ExtQ_xEffEOH"
      },
      "source": [
        "#5. Build the model\n",
        "model_6 = tf.keras.Model(inputs, outputs)"
      ],
      "execution_count": 48,
      "outputs": []
    },
    {
      "cell_type": "code",
      "metadata": {
        "id": "hLsiY-fsfHk6"
      },
      "source": [
        "#6. Compile the model\n",
        "model_6.compile(loss = tf.keras.losses.categorical_crossentropy,\n",
        "                optimizer = tf.keras.optimizers.Adam(),\n",
        "                metrics = [\"accuracy\"])"
      ],
      "execution_count": 49,
      "outputs": []
    },
    {
      "cell_type": "code",
      "metadata": {
        "id": "Gel6GMZFfSTN",
        "outputId": "dd2e435f-7bf3-4994-ee13-ae658150bdc0",
        "colab": {
          "base_uri": "https://localhost:8080/"
        }
      },
      "source": [
        "#7. Train the model\n",
        "fine_tune_epochs = 40\n",
        "history_6 = model_6.fit(train_data_6,\n",
        "                        epochs = fine_tune_epochs,\n",
        "                        steps_per_epoch = len(train_data_6) / 32,\n",
        "                        validation_data = test_data_6,\n",
        "                        validation_steps = len(test_data_6) / 32,\n",
        "                        initial_epoch = history_5.epoch[-1])"
      ],
      "execution_count": 50,
      "outputs": [
        {
          "output_type": "stream",
          "text": [
            "Epoch 30/40\n",
            "11/11 [==============================] - 52s 4s/step - loss: 0.9307 - accuracy: 0.5952 - val_loss: 0.6077 - val_accuracy: 0.7396\n",
            "Epoch 31/40\n",
            "11/11 [==============================] - 41s 4s/step - loss: 0.5136 - accuracy: 0.7922 - val_loss: 0.5915 - val_accuracy: 0.7500\n",
            "Epoch 32/40\n",
            "11/11 [==============================] - 41s 4s/step - loss: 0.5666 - accuracy: 0.7873 - val_loss: 0.5132 - val_accuracy: 0.7500\n",
            "Epoch 33/40\n",
            "11/11 [==============================] - 41s 4s/step - loss: 0.3979 - accuracy: 0.8511 - val_loss: 0.9399 - val_accuracy: 0.4896\n",
            "Epoch 34/40\n",
            "11/11 [==============================] - 39s 3s/step - loss: 0.4926 - accuracy: 0.7693 - val_loss: 0.3370 - val_accuracy: 0.8750\n",
            "Epoch 35/40\n",
            "11/11 [==============================] - 40s 3s/step - loss: 0.3003 - accuracy: 0.9096 - val_loss: 0.3780 - val_accuracy: 0.8438\n",
            "Epoch 36/40\n",
            "11/11 [==============================] - 40s 3s/step - loss: 0.3274 - accuracy: 0.8730 - val_loss: 0.2882 - val_accuracy: 0.9062\n",
            "Epoch 37/40\n",
            "11/11 [==============================] - 40s 3s/step - loss: 0.3344 - accuracy: 0.8813 - val_loss: 0.3514 - val_accuracy: 0.8646\n",
            "Epoch 38/40\n",
            "11/11 [==============================] - 41s 3s/step - loss: 0.2989 - accuracy: 0.8918 - val_loss: 0.5310 - val_accuracy: 0.8438\n",
            "Epoch 39/40\n",
            "11/11 [==============================] - 36s 3s/step - loss: 0.3938 - accuracy: 0.8599 - val_loss: 0.3828 - val_accuracy: 0.8542\n",
            "Epoch 40/40\n",
            "11/11 [==============================] - 42s 4s/step - loss: 0.2514 - accuracy: 0.9078 - val_loss: 0.1972 - val_accuracy: 0.9583\n"
          ],
          "name": "stdout"
        }
      ]
    },
    {
      "cell_type": "code",
      "metadata": {
        "id": "uqp6GmnCf5ZW",
        "outputId": "b487cd67-52a5-4a52-a3ef-32409c61ee52",
        "colab": {
          "base_uri": "https://localhost:8080/",
          "height": 573
        }
      },
      "source": [
        "plot_loss_curves(history_6)"
      ],
      "execution_count": 51,
      "outputs": [
        {
          "output_type": "display_data",
          "data": {
            "image/png": "[encoded data removed]",
            "text/plain": [
              "<Figure size 432x288 with 1 Axes>"
            ]
          },
          "metadata": {
            "tags": [],
            "needs_background": "light"
          }
        },
        {
          "output_type": "display_data",
          "data": {
            "image/png": "[encoded data removed]",
            "text/plain": [
              "<Figure size 432x288 with 1 Axes>"
            ]
          },
          "metadata": {
            "tags": [],
            "needs_background": "light"
          }
        }
      ]
    },
    {
      "cell_type": "markdown",
      "metadata": {
        "id": "SnWZmIt9IM9H"
      },
      "source": [
        "## Model 7 of 10\n",
        "\n",
        "Efficient Net B4 FE with EarlyStopping"
      ]
    },
    {
      "cell_type": "code",
      "metadata": {
        "id": "KDpiQZvagDr4",
        "outputId": "3ad362a0-bba3-4d03-f4b2-8c8acecaec6a",
        "colab": {
          "base_uri": "https://localhost:8080/"
        }
      },
      "source": [
        "#1. Train data\n",
        "train_data_7 = tf.keras.preprocessing.image_dataset_from_directory(train_dir,\n",
        "                                                                   label_mode = \"categorical\",\n",
        "                                                                   image_size = (224, 224))\n",
        "\n",
        "test_data_7 = tf.keras.preprocessing.image_dataset_from_directory(test_dir,\n",
        "                                                                  label_mode = \"categorical\",\n",
        "                                                                  image_size = (224, 224))"
      ],
      "execution_count": 52,
      "outputs": [
        {
          "output_type": "stream",
          "text": [
            "Found 12121 files belonging to 3 classes.\n",
            "Found 3032 files belonging to 3 classes.\n"
          ],
          "name": "stdout"
        }
      ]
    },
    {
      "cell_type": "code",
      "metadata": {
        "id": "TGCKXGfEgyvn",
        "outputId": "06da4d01-f081-4ca8-abd8-66b2266545fd",
        "colab": {
          "base_uri": "https://localhost:8080/"
        }
      },
      "source": [
        "#2. Import the base model\n",
        "base_model = tf.keras.applications.EfficientNetB4(include_top = False)\n",
        "\n",
        "base_model.trainable = False"
      ],
      "execution_count": 53,
      "outputs": [
        {
          "output_type": "stream",
          "text": [
            "Downloading data from https://storage.googleapis.com/keras-applications/efficientnetb4_notop.h5\n",
            "71688192/71686520 [==============================] - 1s 0us/step\n"
          ],
          "name": "stdout"
        }
      ]
    },
    {
      "cell_type": "code",
      "metadata": {
        "id": "OAE8hjprg9aP"
      },
      "source": [
        "from tensorflow.keras.layers.experimental import preprocessing\n",
        "from tensorflow.keras.models import Sequential\n",
        "from tensorflow.keras import layers\n",
        "\n",
        "#3. Write a data augmentation layer\n",
        "data_augmentation = Sequential([\n",
        "  preprocessing.RandomFlip(\"horizontal\"),\n",
        "  preprocessing.RandomWidth(0.2),\n",
        "  preprocessing.RandomHeight(0.2),\n",
        "  preprocessing.RandomRotation(0.2),\n",
        "  preprocessing.RandomZoom(0.2)\n",
        "])"
      ],
      "execution_count": 54,
      "outputs": []
    },
    {
      "cell_type": "code",
      "metadata": {
        "id": "TVsgUIY9iSgk"
      },
      "source": [
        "#4. Create the layers\n",
        "inputs = layers.Input(shape = (224, 224, 3))\n",
        "x = data_augmentation(inputs)\n",
        "x = base_model(x, training = False)\n",
        "x = layers.GlobalAveragePooling2D()(x)\n",
        "outputs = layers.Dense(3, activation = \"softmax\")(x)"
      ],
      "execution_count": 55,
      "outputs": []
    },
    {
      "cell_type": "code",
      "metadata": {
        "id": "1BfswspWixjE"
      },
      "source": [
        "#5. Create the model\n",
        "model_7 = tf.keras.Model(inputs, outputs)"
      ],
      "execution_count": 56,
      "outputs": []
    },
    {
      "cell_type": "code",
      "metadata": {
        "id": "kV6grGJgi3CN"
      },
      "source": [
        "#6. Compile the model\n",
        "model_7.compile(loss = tf.keras.losses.categorical_crossentropy, \n",
        "                optimizer = tf.keras.optimizers.Adam(),\n",
        "                metrics = [\"accuracy\"])"
      ],
      "execution_count": 57,
      "outputs": []
    },
    {
      "cell_type": "code",
      "metadata": {
        "id": "44h4l93cjDBL",
        "outputId": "a03d0134-ac74-415a-b622-ba6c5188bd2b",
        "colab": {
          "base_uri": "https://localhost:8080/"
        }
      },
      "source": [
        "#7. Fit the model\n",
        "history_7 = model_7.fit(train_data_7,\n",
        "                        epochs = 30,\n",
        "                        steps_per_epoch = len(train_data_7) / 32,\n",
        "                        validation_data = test_data_7,\n",
        "                        validation_steps = len(test_data_7) / 32)"
      ],
      "execution_count": 58,
      "outputs": [
        {
          "output_type": "stream",
          "text": [
            "Epoch 1/30\n",
            "11/11 [==============================] - 128s 10s/step - loss: 0.9124 - accuracy: 0.5646 - val_loss: 0.7932 - val_accuracy: 0.6979\n",
            "Epoch 2/30\n",
            "11/11 [==============================] - 99s 8s/step - loss: 0.6328 - accuracy: 0.7441 - val_loss: 0.6173 - val_accuracy: 0.7812\n",
            "Epoch 3/30\n",
            "11/11 [==============================] - 91s 8s/step - loss: 0.5529 - accuracy: 0.7907 - val_loss: 0.5782 - val_accuracy: 0.7604\n",
            "Epoch 4/30\n",
            "11/11 [==============================] - 97s 8s/step - loss: 0.5330 - accuracy: 0.7863 - val_loss: 0.4774 - val_accuracy: 0.8229\n",
            "Epoch 5/30\n",
            "11/11 [==============================] - 90s 8s/step - loss: 0.5138 - accuracy: 0.8142 - val_loss: 0.5012 - val_accuracy: 0.8125\n",
            "Epoch 6/30\n",
            "11/11 [==============================] - 94s 8s/step - loss: 0.4178 - accuracy: 0.8304 - val_loss: 0.3605 - val_accuracy: 0.8646\n",
            "Epoch 7/30\n",
            "11/11 [==============================] - 94s 8s/step - loss: 0.5008 - accuracy: 0.8076 - val_loss: 0.4149 - val_accuracy: 0.8542\n",
            "Epoch 8/30\n",
            "11/11 [==============================] - 93s 8s/step - loss: 0.4503 - accuracy: 0.8348 - val_loss: 0.3419 - val_accuracy: 0.8958\n",
            "Epoch 9/30\n",
            "11/11 [==============================] - 93s 8s/step - loss: 0.3796 - accuracy: 0.8670 - val_loss: 0.4561 - val_accuracy: 0.8125\n",
            "Epoch 10/30\n",
            "11/11 [==============================] - 101s 9s/step - loss: 0.4132 - accuracy: 0.8688 - val_loss: 0.4207 - val_accuracy: 0.8229\n",
            "Epoch 11/30\n",
            "11/11 [==============================] - 95s 8s/step - loss: 0.4022 - accuracy: 0.8498 - val_loss: 0.3820 - val_accuracy: 0.8646\n",
            "Epoch 12/30\n",
            "11/11 [==============================] - 93s 8s/step - loss: 0.3796 - accuracy: 0.8728 - val_loss: 0.4737 - val_accuracy: 0.7708\n",
            "Epoch 13/30\n",
            "11/11 [==============================] - 89s 8s/step - loss: 0.3383 - accuracy: 0.8846 - val_loss: 0.3412 - val_accuracy: 0.8542\n",
            "Epoch 14/30\n",
            "11/11 [==============================] - 91s 8s/step - loss: 0.4469 - accuracy: 0.7969 - val_loss: 0.3556 - val_accuracy: 0.8542\n",
            "Epoch 15/30\n",
            "11/11 [==============================] - 89s 8s/step - loss: 0.3414 - accuracy: 0.8872 - val_loss: 0.3997 - val_accuracy: 0.8229\n",
            "Epoch 16/30\n",
            "11/11 [==============================] - 99s 9s/step - loss: 0.3650 - accuracy: 0.8510 - val_loss: 0.4156 - val_accuracy: 0.8333\n",
            "Epoch 17/30\n",
            "11/11 [==============================] - 95s 8s/step - loss: 0.3795 - accuracy: 0.8636 - val_loss: 0.3731 - val_accuracy: 0.8750\n",
            "Epoch 18/30\n",
            "11/11 [==============================] - 93s 8s/step - loss: 0.4028 - accuracy: 0.8320 - val_loss: 0.4206 - val_accuracy: 0.8229\n",
            "Epoch 19/30\n",
            "11/11 [==============================] - 96s 8s/step - loss: 0.3396 - accuracy: 0.8759 - val_loss: 0.3042 - val_accuracy: 0.8958\n",
            "Epoch 20/30\n",
            "11/11 [==============================] - 91s 8s/step - loss: 0.5319 - accuracy: 0.8052 - val_loss: 0.3575 - val_accuracy: 0.8646\n",
            "Epoch 21/30\n",
            "11/11 [==============================] - 97s 8s/step - loss: 0.3037 - accuracy: 0.8996 - val_loss: 0.4214 - val_accuracy: 0.7708\n",
            "Epoch 22/30\n",
            "11/11 [==============================] - 95s 8s/step - loss: 0.2694 - accuracy: 0.9029 - val_loss: 0.4233 - val_accuracy: 0.8438\n",
            "Epoch 23/30\n",
            "11/11 [==============================] - 97s 8s/step - loss: 0.3309 - accuracy: 0.8681 - val_loss: 0.4435 - val_accuracy: 0.7917\n",
            "Epoch 24/30\n",
            "11/11 [==============================] - 96s 8s/step - loss: 0.2836 - accuracy: 0.9031 - val_loss: 0.4251 - val_accuracy: 0.8438\n",
            "Epoch 25/30\n",
            "11/11 [==============================] - 93s 8s/step - loss: 0.2674 - accuracy: 0.9080 - val_loss: 0.3936 - val_accuracy: 0.8438\n",
            "Epoch 26/30\n",
            "11/11 [==============================] - 96s 8s/step - loss: 0.3475 - accuracy: 0.8628 - val_loss: 0.3601 - val_accuracy: 0.8750\n",
            "Epoch 27/30\n",
            "11/11 [==============================] - 96s 8s/step - loss: 0.3248 - accuracy: 0.8744 - val_loss: 0.3447 - val_accuracy: 0.8646\n",
            "Epoch 28/30\n",
            "11/11 [==============================] - 96s 8s/step - loss: 0.3854 - accuracy: 0.8390 - val_loss: 0.3547 - val_accuracy: 0.8542\n",
            "Epoch 29/30\n",
            "11/11 [==============================] - 102s 9s/step - loss: 0.3507 - accuracy: 0.8640 - val_loss: 0.4704 - val_accuracy: 0.7917\n",
            "Epoch 30/30\n",
            "11/11 [==============================] - 95s 8s/step - loss: 0.3319 - accuracy: 0.8669 - val_loss: 0.3224 - val_accuracy: 0.8750\n"
          ],
          "name": "stdout"
        }
      ]
    },
    {
      "cell_type": "code",
      "metadata": {
        "id": "q5-P8DutgDcQ"
      },
      "source": [
        "plot_loss_curves(history_7)"
      ],
      "execution_count": null,
      "outputs": []
    },
    {
      "cell_type": "markdown",
      "metadata": {
        "id": "rnAseGUDIRsB"
      },
      "source": [
        "## Model 8 of 10\n",
        "\n",
        "Efficient Net B4 FT with EarlyStopping"
      ]
    },
    {
      "cell_type": "code",
      "metadata": {
        "id": "nxMYxJKSjSZ6",
        "outputId": "3d904a20-e5e8-4efe-c965-1a4a2459e137",
        "colab": {
          "base_uri": "https://localhost:8080/"
        }
      },
      "source": [
        "#1. Train data\n",
        "train_data_8 = tf.keras.preprocessing.image_dataset_from_directory(train_dir,\n",
        "                                                                   label_mode = \"categorical\",\n",
        "                                                                   image_size = (224, 224))\n",
        "\n",
        "test_data_8 = tf.keras.preprocessing.image_dataset_from_directory(test_dir,\n",
        "                                                                  label_mode = \"categorical\",\n",
        "                                                                  image_size = (224, 224))"
      ],
      "execution_count": 59,
      "outputs": [
        {
          "output_type": "stream",
          "text": [
            "Found 12121 files belonging to 3 classes.\n",
            "Found 3032 files belonging to 3 classes.\n"
          ],
          "name": "stdout"
        }
      ]
    },
    {
      "cell_type": "code",
      "metadata": {
        "id": "FUvsfWxUjsna"
      },
      "source": [
        "#2. Create a base model\n",
        "base_model = tf.keras.applications.EfficientNetB4(include_top = False)\n",
        "\n",
        "base_model.trainable = True\n",
        "\n",
        "for layer in base_model.layers[:-15]:\n",
        "  layer.trainable = False"
      ],
      "execution_count": 60,
      "outputs": []
    },
    {
      "cell_type": "code",
      "metadata": {
        "id": "3l-Fi3RzkNz_"
      },
      "source": [
        "#3. Create the layers\n",
        "inputs = layers.Input(shape = (224, 224, 3))\n",
        "x = data_augmentation(inputs)\n",
        "x = base_model(x)\n",
        "x = layers.GlobalAveragePooling2D()(x)\n",
        "outputs = layers.Dense(3, activation = \"softmax\")(x)"
      ],
      "execution_count": 61,
      "outputs": []
    },
    {
      "cell_type": "code",
      "metadata": {
        "id": "_BS_yXTMkc3G"
      },
      "source": [
        "#4. Create the model\n",
        "model_8 = tf.keras.Model(inputs, outputs)"
      ],
      "execution_count": 62,
      "outputs": []
    },
    {
      "cell_type": "code",
      "metadata": {
        "id": "dKf_zoYUkiTn"
      },
      "source": [
        "#5. Compile the model\n",
        "model_8.compile(loss = tf.keras.losses.categorical_crossentropy,\n",
        "                optimizer = tf.keras.optimizers.Adam(lr = 0.0001),\n",
        "                metrics = [\"accuracy\"])"
      ],
      "execution_count": 63,
      "outputs": []
    },
    {
      "cell_type": "code",
      "metadata": {
        "id": "AlDBv_WXlLT3"
      },
      "source": [
        "#6. Create a callback\n",
        "early_stopping = tf.keras.callbacks.EarlyStopping(\n",
        "    monitor = \"val_loss\"\n",
        ")"
      ],
      "execution_count": 64,
      "outputs": []
    },
    {
      "cell_type": "code",
      "metadata": {
        "id": "K2TUNE5-ku0L",
        "outputId": "6a8c237b-ac5a-464b-dcac-73ace94230ac",
        "colab": {
          "base_uri": "https://localhost:8080/"
        }
      },
      "source": [
        "#7. Train the model\n",
        "fine_tune_epochs = 40\n",
        "history_8 = model_8.fit(train_data_8,\n",
        "                        epochs = fine_tune_epochs,\n",
        "                        steps_per_epoch = len(train_data_8) / 32,\n",
        "                        validation_data = test_data_8,\n",
        "                        validation_steps = len(test_data_8) / 32,\n",
        "                        initial_epoch = history_7.epoch[-1],\n",
        "                        callbacks = [early_stopping])"
      ],
      "execution_count": 65,
      "outputs": [
        {
          "output_type": "stream",
          "text": [
            "Epoch 30/40\n",
            "11/11 [==============================] - 130s 10s/step - loss: 1.0810 - accuracy: 0.3450 - val_loss: 0.8577 - val_accuracy: 0.6875\n",
            "Epoch 31/40\n",
            "11/11 [==============================] - 111s 10s/step - loss: 0.8033 - accuracy: 0.7072 - val_loss: 0.7595 - val_accuracy: 0.7083\n",
            "Epoch 32/40\n",
            "11/11 [==============================] - 111s 10s/step - loss: 0.7143 - accuracy: 0.7491 - val_loss: 0.7028 - val_accuracy: 0.8021\n",
            "Epoch 33/40\n",
            "11/11 [==============================] - 107s 9s/step - loss: 0.5711 - accuracy: 0.8146 - val_loss: 0.6973 - val_accuracy: 0.7500\n",
            "Epoch 34/40\n",
            "11/11 [==============================] - 112s 10s/step - loss: 0.5794 - accuracy: 0.8086 - val_loss: 0.6552 - val_accuracy: 0.7708\n",
            "Epoch 35/40\n",
            "11/11 [==============================] - 107s 9s/step - loss: 0.5149 - accuracy: 0.7870 - val_loss: 0.5684 - val_accuracy: 0.8229\n",
            "Epoch 36/40\n",
            "11/11 [==============================] - 103s 9s/step - loss: 0.4158 - accuracy: 0.8715 - val_loss: 0.5851 - val_accuracy: 0.8125\n"
          ],
          "name": "stdout"
        }
      ]
    },
    {
      "cell_type": "code",
      "metadata": {
        "id": "mnRlGEYqgnQf"
      },
      "source": [
        "plot_loss_curves(history_8)"
      ],
      "execution_count": null,
      "outputs": []
    },
    {
      "cell_type": "markdown",
      "metadata": {
        "id": "HMx8RgXmIWzx"
      },
      "source": [
        "## Model 9 of 10\n",
        "\n",
        "ResNet Feature Extraction"
      ]
    },
    {
      "cell_type": "code",
      "metadata": {
        "id": "FFSSoykPyubd",
        "outputId": "f31d8354-2e32-4b10-e723-64f83f290b77",
        "colab": {
          "base_uri": "https://localhost:8080/"
        }
      },
      "source": [
        "#1. Make a train data\n",
        "train_data_9 = tf.keras.preprocessing.image_dataset_from_directory(train_dir,\n",
        "                                                                   label_mode = \"categorical\",\n",
        "                                                                   image_size = (224, 224))\n",
        "\n",
        "test_data_9 = tf.keras.preprocessing.image_dataset_from_directory(test_dir,\n",
        "                                                                 label_mode = \"categorical\",\n",
        "                                                                 image_size = (224, 224))"
      ],
      "execution_count": 66,
      "outputs": [
        {
          "output_type": "stream",
          "text": [
            "Found 12121 files belonging to 3 classes.\n",
            "Found 3032 files belonging to 3 classes.\n"
          ],
          "name": "stdout"
        }
      ]
    },
    {
      "cell_type": "code",
      "metadata": {
        "id": "xhz7bo4mzNq_",
        "outputId": "a65c932e-93cb-4863-8f52-88fd80db7a37",
        "colab": {
          "base_uri": "https://localhost:8080/"
        }
      },
      "source": [
        "#2. Import the base model\n",
        "base_model = tf.keras.applications.ResNet50(include_top = False)\n",
        "\n",
        "base_model.trainable = False"
      ],
      "execution_count": 67,
      "outputs": [
        {
          "output_type": "stream",
          "text": [
            "Downloading data from https://storage.googleapis.com/tensorflow/keras-applications/resnet/resnet50_weights_tf_dim_ordering_tf_kernels_notop.h5\n",
            "94773248/94765736 [==============================] - 1s 0us/step\n"
          ],
          "name": "stdout"
        }
      ]
    },
    {
      "cell_type": "code",
      "metadata": {
        "id": "8yKJK7t60nUr"
      },
      "source": [
        "from tensorflow.keras.layers.experimental import preprocessing\n",
        "from tensorflow.keras.models import Sequential\n",
        "from tensorflow.keras import layers\n",
        "\n",
        "#3. Create a data augmentation layer\n",
        "data_augmentation = Sequential([\n",
        "  preprocessing.RandomFlip(\"horizontal\"),\n",
        "  preprocessing.RandomHeight(0.2),\n",
        "  preprocessing.RandomWidth(0.2),\n",
        "  preprocessing.RandomZoom(0.2),\n",
        "  preprocessing.RandomRotation(0.2)\n",
        "])"
      ],
      "execution_count": 68,
      "outputs": []
    },
    {
      "cell_type": "code",
      "metadata": {
        "id": "x1yTg51bzbGR"
      },
      "source": [
        "#4. Create model layers\n",
        "inputs = layers.Input(shape = (224, 224, 3))\n",
        "x = data_augmentation(inputs)\n",
        "x = base_model(x, training = False)\n",
        "x = layers.GlobalAveragePooling2D()(x)\n",
        "outputs = layers.Dense(3, activation = \"softmax\")(x)"
      ],
      "execution_count": 69,
      "outputs": []
    },
    {
      "cell_type": "code",
      "metadata": {
        "id": "5zcyXSC2z11o"
      },
      "source": [
        "#5. Create the model\n",
        "model_9 = tf.keras.Model(inputs, outputs)"
      ],
      "execution_count": 70,
      "outputs": []
    },
    {
      "cell_type": "code",
      "metadata": {
        "id": "jW3ZFI4Mz56l"
      },
      "source": [
        "#6. Compile the model\n",
        "model_9.compile(loss = tf.keras.losses.categorical_crossentropy,\n",
        "                optimizer = tf.keras.optimizers.Adam(),\n",
        "                metrics = [\"accuracy\"])"
      ],
      "execution_count": 71,
      "outputs": []
    },
    {
      "cell_type": "code",
      "metadata": {
        "id": "l3wxkhi-0Kr6",
        "outputId": "9c1bf1c3-259b-4469-9286-97a72e504880",
        "colab": {
          "base_uri": "https://localhost:8080/"
        }
      },
      "source": [
        "#7. Fit the model\n",
        "history_9 = model_9.fit(train_data_9,\n",
        "                        epochs = 30,\n",
        "                        steps_per_epoch = len(train_data_9) / 32,\n",
        "                        validation_data = test_data_9,\n",
        "                        validation_steps = len(test_data_9) / 32)"
      ],
      "execution_count": 72,
      "outputs": [
        {
          "output_type": "stream",
          "text": [
            "Epoch 1/30\n",
            "11/11 [==============================] - 109s 9s/step - loss: 0.9782 - accuracy: 0.5392 - val_loss: 0.5094 - val_accuracy: 0.8021\n",
            "Epoch 2/30\n",
            "11/11 [==============================] - 96s 8s/step - loss: 0.5925 - accuracy: 0.7391 - val_loss: 0.5921 - val_accuracy: 0.7188\n",
            "Epoch 3/30\n",
            "11/11 [==============================] - 87s 8s/step - loss: 0.5645 - accuracy: 0.7922 - val_loss: 0.6045 - val_accuracy: 0.8021\n",
            "Epoch 4/30\n",
            "11/11 [==============================] - 92s 8s/step - loss: 0.5288 - accuracy: 0.7718 - val_loss: 0.5350 - val_accuracy: 0.8021\n",
            "Epoch 5/30\n",
            "11/11 [==============================] - 96s 8s/step - loss: 0.4999 - accuracy: 0.7774 - val_loss: 0.4256 - val_accuracy: 0.8646\n",
            "Epoch 6/30\n",
            "11/11 [==============================] - 97s 8s/step - loss: 0.4727 - accuracy: 0.7857 - val_loss: 0.5089 - val_accuracy: 0.8021\n",
            "Epoch 7/30\n",
            "11/11 [==============================] - 95s 8s/step - loss: 0.4439 - accuracy: 0.8251 - val_loss: 0.5395 - val_accuracy: 0.8229\n",
            "Epoch 8/30\n",
            "11/11 [==============================] - 91s 8s/step - loss: 0.3828 - accuracy: 0.8443 - val_loss: 0.3743 - val_accuracy: 0.8542\n",
            "Epoch 9/30\n",
            "11/11 [==============================] - 91s 8s/step - loss: 0.4657 - accuracy: 0.8204 - val_loss: 0.5499 - val_accuracy: 0.8229\n",
            "Epoch 10/30\n",
            "11/11 [==============================] - 90s 8s/step - loss: 0.4162 - accuracy: 0.8239 - val_loss: 0.4699 - val_accuracy: 0.8438\n",
            "Epoch 11/30\n",
            "11/11 [==============================] - 89s 8s/step - loss: 0.3998 - accuracy: 0.8522 - val_loss: 0.3988 - val_accuracy: 0.8646\n",
            "Epoch 12/30\n",
            "11/11 [==============================] - 92s 8s/step - loss: 0.4278 - accuracy: 0.8122 - val_loss: 0.5761 - val_accuracy: 0.7917\n",
            "Epoch 13/30\n",
            "11/11 [==============================] - 90s 8s/step - loss: 0.3657 - accuracy: 0.8663 - val_loss: 0.4038 - val_accuracy: 0.8646\n",
            "Epoch 14/30\n",
            "11/11 [==============================] - 99s 8s/step - loss: 0.3585 - accuracy: 0.8559 - val_loss: 0.4511 - val_accuracy: 0.8646\n",
            "Epoch 15/30\n",
            "11/11 [==============================] - 93s 8s/step - loss: 0.4843 - accuracy: 0.7823 - val_loss: 0.5287 - val_accuracy: 0.7812\n",
            "Epoch 16/30\n",
            "11/11 [==============================] - 96s 8s/step - loss: 0.4226 - accuracy: 0.8119 - val_loss: 0.4578 - val_accuracy: 0.8542\n",
            "Epoch 17/30\n",
            "11/11 [==============================] - 85s 7s/step - loss: 0.3458 - accuracy: 0.8520 - val_loss: 0.5704 - val_accuracy: 0.7708\n",
            "Epoch 18/30\n",
            "11/11 [==============================] - 92s 8s/step - loss: 0.3923 - accuracy: 0.8573 - val_loss: 0.3753 - val_accuracy: 0.8646\n",
            "Epoch 19/30\n",
            "11/11 [==============================] - 91s 8s/step - loss: 0.3759 - accuracy: 0.8599 - val_loss: 0.5283 - val_accuracy: 0.8438\n",
            "Epoch 20/30\n",
            "11/11 [==============================] - 92s 8s/step - loss: 0.3392 - accuracy: 0.8626 - val_loss: 0.3799 - val_accuracy: 0.8438\n",
            "Epoch 21/30\n",
            "11/11 [==============================] - 95s 8s/step - loss: 0.3228 - accuracy: 0.8802 - val_loss: 0.4240 - val_accuracy: 0.8646\n",
            "Epoch 22/30\n",
            "11/11 [==============================] - 106s 9s/step - loss: 0.3605 - accuracy: 0.8530 - val_loss: 0.1793 - val_accuracy: 0.9375\n",
            "Epoch 23/30\n",
            "11/11 [==============================] - 94s 8s/step - loss: 0.3994 - accuracy: 0.8606 - val_loss: 0.4683 - val_accuracy: 0.8750\n",
            "Epoch 24/30\n",
            "11/11 [==============================] - 96s 8s/step - loss: 0.3857 - accuracy: 0.8463 - val_loss: 0.4891 - val_accuracy: 0.8333\n",
            "Epoch 25/30\n",
            "11/11 [==============================] - 87s 7s/step - loss: 0.3458 - accuracy: 0.8551 - val_loss: 0.5439 - val_accuracy: 0.7917\n",
            "Epoch 26/30\n",
            "11/11 [==============================] - 86s 8s/step - loss: 0.3112 - accuracy: 0.8781 - val_loss: 0.4510 - val_accuracy: 0.8333\n",
            "Epoch 27/30\n",
            "11/11 [==============================] - 93s 8s/step - loss: 0.3961 - accuracy: 0.8371 - val_loss: 0.2990 - val_accuracy: 0.8854\n",
            "Epoch 28/30\n",
            "11/11 [==============================] - 94s 8s/step - loss: 0.3619 - accuracy: 0.8936 - val_loss: 0.4298 - val_accuracy: 0.8854\n",
            "Epoch 29/30\n",
            "11/11 [==============================] - 87s 8s/step - loss: 0.3324 - accuracy: 0.8619 - val_loss: 0.5807 - val_accuracy: 0.8125\n",
            "Epoch 30/30\n",
            "11/11 [==============================] - 91s 8s/step - loss: 0.3856 - accuracy: 0.8260 - val_loss: 0.5266 - val_accuracy: 0.8125\n"
          ],
          "name": "stdout"
        }
      ]
    },
    {
      "cell_type": "code",
      "metadata": {
        "id": "HFm2YAZt0i8N",
        "outputId": "16239c00-82f9-496c-d71e-f0bb98e0a887",
        "colab": {
          "base_uri": "https://localhost:8080/",
          "height": 573
        }
      },
      "source": [
        "plot_loss_curves(history_9)"
      ],
      "execution_count": 73,
      "outputs": [
        {
          "output_type": "display_data",
          "data": {
            "image/png": "[encoded data removed]",
            "text/plain": [
              "<Figure size 432x288 with 1 Axes>"
            ]
          },
          "metadata": {
            "tags": [],
            "needs_background": "light"
          }
        },
        {
          "output_type": "display_data",
          "data": {
            "image/png": "[encoded data removed]",
            "text/plain": [
              "<Figure size 432x288 with 1 Axes>"
            ]
          },
          "metadata": {
            "tags": [],
            "needs_background": "light"
          }
        }
      ]
    },
    {
      "cell_type": "markdown",
      "metadata": {
        "id": "sXxnWGNoIcVp"
      },
      "source": [
        "## Model 10 of 10\n",
        "\n",
        "Resnet Fine Tuning"
      ]
    },
    {
      "cell_type": "code",
      "metadata": {
        "id": "x1bhAWn31bIM",
        "outputId": "a1faf782-e3c1-4872-e88e-72eb83a1f839",
        "colab": {
          "base_uri": "https://localhost:8080/"
        }
      },
      "source": [
        "#1. Train data gen\n",
        "train_data_10 = tf.keras.preprocessing.image_dataset_from_directory(train_dir,\n",
        "                                                                    label_mode = \"categorical\",\n",
        "                                                                    image_size = (224, 224))\n",
        "\n",
        "test_data_10 = tf.keras.preprocessing.image_dataset_from_directory(test_dir,\n",
        "                                                                   label_mode = \"categorical\",\n",
        "                                                                   image_size = (224, 224))"
      ],
      "execution_count": 74,
      "outputs": [
        {
          "output_type": "stream",
          "text": [
            "Found 12121 files belonging to 3 classes.\n",
            "Found 3032 files belonging to 3 classes.\n"
          ],
          "name": "stdout"
        }
      ]
    },
    {
      "cell_type": "code",
      "metadata": {
        "id": "25uBjGNJ2fDX"
      },
      "source": [
        "from tensorflow.keras.layers.experimental import preprocessing\n",
        "from tensorflow.keras.models import Sequential\n",
        "from tensorflow.keras import layers\n",
        "\n",
        "#2. Create the data augmentation layer\n",
        "data_augmentation = Sequential([\n",
        "  preprocessing.RandomFlip(\"horizontal\"),\n",
        "  preprocessing.RandomHeight(0.2),\n",
        "  preprocessing.RandomWidth(0.2),\n",
        "  preprocessing.RandomZoom(0.2),\n",
        "  preprocessing.RandomRotation(0.2)\n",
        "])"
      ],
      "execution_count": 75,
      "outputs": []
    },
    {
      "cell_type": "code",
      "metadata": {
        "id": "y2MNzosyAbwC"
      },
      "source": [
        "#3. Import the base model\n",
        "base_model = tf.keras.applications.ResNet50(include_top = False)\n",
        "\n",
        "base_model.trainable = True\n",
        "\n",
        "for layer in base_model.layers[:-15]:\n",
        "  layer.trainable = False"
      ],
      "execution_count": 76,
      "outputs": []
    },
    {
      "cell_type": "code",
      "metadata": {
        "id": "w8lIWqKJ18zl"
      },
      "source": [
        "#4. Create the layers\n",
        "inputs = layers.Input(shape = (224, 224, 3))\n",
        "x = data_augmentation(inputs)\n",
        "x = base_model(x)\n",
        "x = layers.GlobalAveragePooling2D()(x)\n",
        "outputs = layers.Dense(3, activation = \"softmax\")(x)"
      ],
      "execution_count": 77,
      "outputs": []
    },
    {
      "cell_type": "code",
      "metadata": {
        "id": "67P88M7c2ejs"
      },
      "source": [
        "#5. Create the model\n",
        "model_10 = tf.keras.Model(inputs, outputs)"
      ],
      "execution_count": 78,
      "outputs": []
    },
    {
      "cell_type": "code",
      "metadata": {
        "id": "XONMDpmh3QLc"
      },
      "source": [
        "#6. Compile the model\n",
        "model_10.compile(loss = tf.keras.losses.categorical_crossentropy,\n",
        "                 optimizer = tf.keras.optimizers.Adam(lr = 0.0001),\n",
        "                 metrics = [\"accuracy\"])"
      ],
      "execution_count": 79,
      "outputs": []
    },
    {
      "cell_type": "code",
      "metadata": {
        "id": "kaEuLo0j3lIQ",
        "outputId": "50f722ce-95d6-4b43-9449-31501051036a",
        "colab": {
          "base_uri": "https://localhost:8080/"
        }
      },
      "source": [
        "#7. Fit the model\n",
        "history_10 = model_10.fit(train_data_10,\n",
        "                          epochs = fine_tune_epochs,\n",
        "                          steps_per_epoch = len(train_data_10) / 32,\n",
        "                          validation_data = test_data_10,\n",
        "                          validation_steps = len(test_data_10) / 32,\n",
        "                          initial_epoch = history_9.epoch[-1])"
      ],
      "execution_count": 80,
      "outputs": [
        {
          "output_type": "stream",
          "text": [
            "Epoch 30/40\n",
            "11/11 [==============================] - 122s 10s/step - loss: 1.1530 - accuracy: 0.4391 - val_loss: 1.6739 - val_accuracy: 0.6562\n",
            "Epoch 31/40\n",
            "11/11 [==============================] - 112s 10s/step - loss: 0.5231 - accuracy: 0.8162 - val_loss: 2.2642 - val_accuracy: 0.6042\n",
            "Epoch 32/40\n",
            "11/11 [==============================] - 118s 10s/step - loss: 0.4655 - accuracy: 0.8306 - val_loss: 1.3301 - val_accuracy: 0.7500\n",
            "Epoch 33/40\n",
            "11/11 [==============================] - 107s 9s/step - loss: 0.3945 - accuracy: 0.8405 - val_loss: 1.3051 - val_accuracy: 0.6979\n",
            "Epoch 34/40\n",
            "11/11 [==============================] - 106s 9s/step - loss: 0.3854 - accuracy: 0.8388 - val_loss: 0.8995 - val_accuracy: 0.7604\n",
            "Epoch 35/40\n",
            "11/11 [==============================] - 105s 9s/step - loss: 0.3921 - accuracy: 0.8244 - val_loss: 1.0076 - val_accuracy: 0.7604\n",
            "Epoch 36/40\n",
            "11/11 [==============================] - 106s 9s/step - loss: 0.3216 - accuracy: 0.8853 - val_loss: 0.4572 - val_accuracy: 0.8438\n",
            "Epoch 37/40\n",
            "11/11 [==============================] - 110s 9s/step - loss: 0.3846 - accuracy: 0.8262 - val_loss: 0.7725 - val_accuracy: 0.8021\n",
            "Epoch 38/40\n",
            "11/11 [==============================] - 107s 9s/step - loss: 0.2990 - accuracy: 0.8884 - val_loss: 0.7858 - val_accuracy: 0.8021\n",
            "Epoch 39/40\n",
            "11/11 [==============================] - 101s 9s/step - loss: 0.2797 - accuracy: 0.9168 - val_loss: 0.5171 - val_accuracy: 0.8750\n",
            "Epoch 40/40\n",
            "11/11 [==============================] - 112s 10s/step - loss: 0.2455 - accuracy: 0.9245 - val_loss: 0.5724 - val_accuracy: 0.8125\n"
          ],
          "name": "stdout"
        }
      ]
    },
    {
      "cell_type": "code",
      "metadata": {
        "id": "SKU9fjCriDPa",
        "outputId": "2486d316-9038-4243-de89-94d0d651f38f",
        "colab": {
          "base_uri": "https://localhost:8080/",
          "height": 573
        }
      },
      "source": [
        "plot_loss_curves(history_10)"
      ],
      "execution_count": 82,
      "outputs": [
        {
          "output_type": "display_data",
          "data": {
            "image/png": "[encoded data removed]",
            "text/plain": [
              "<Figure size 432x288 with 1 Axes>"
            ]
          },
          "metadata": {
            "tags": [],
            "needs_background": "light"
          }
        },
        {
          "output_type": "display_data",
          "data": {
            "image/png": "[encoded data removed]",
            "text/plain": [
              "<Figure size 432x288 with 1 Axes>"
            ]
          },
          "metadata": {
            "tags": [],
            "needs_background": "light"
          }
        }
      ]
    },
    {
      "cell_type": "markdown",
      "metadata": {
        "id": "G7zE703D4Cbe"
      },
      "source": [
        "#Evaluate the Models"
      ]
    },
    {
      "cell_type": "code",
      "metadata": {
        "id": "1BV0xTXn4HDD",
        "outputId": "21470216-49e8-44e7-fd03-4d8c5804077d",
        "colab": {
          "base_uri": "https://localhost:8080/"
        }
      },
      "source": [
        "model_1_evaluation = model_1.evaluate(test_data)\n",
        "model_1_evaluation"
      ],
      "execution_count": 86,
      "outputs": [
        {
          "output_type": "stream",
          "text": [
            "95/95 [==============================] - 61s 645ms/step - loss: 0.3633 - accuracy: 0.8536\n"
          ],
          "name": "stdout"
        },
        {
          "output_type": "execute_result",
          "data": {
            "text/plain": [
              "[0.3632858097553253, 0.8535619974136353]"
            ]
          },
          "metadata": {
            "tags": []
          },
          "execution_count": 86
        }
      ]
    },
    {
      "cell_type": "code",
      "metadata": {
        "id": "8GhTz_xS4JeO",
        "outputId": "0830fd03-cc53-43bc-8585-01ef20daa20c",
        "colab": {
          "base_uri": "https://localhost:8080/"
        }
      },
      "source": [
        "model_2_evaluation = model_2.evaluate(test_data_2)\n",
        "model_2_evaluation"
      ],
      "execution_count": 96,
      "outputs": [
        {
          "output_type": "stream",
          "text": [
            "95/95 [==============================] - 117s 1s/step - loss: 0.4608 - accuracy: 0.7925\n"
          ],
          "name": "stdout"
        },
        {
          "output_type": "execute_result",
          "data": {
            "text/plain": [
              "[0.460785835981369, 0.7925461530685425]"
            ]
          },
          "metadata": {
            "tags": []
          },
          "execution_count": 96
        }
      ]
    },
    {
      "cell_type": "code",
      "metadata": {
        "id": "f9UZsjFg4Lw_",
        "outputId": "3a94ee39-7691-481b-d429-c976f05cb580",
        "colab": {
          "base_uri": "https://localhost:8080/"
        }
      },
      "source": [
        "model_3_evaluation = model_3.evaluate(test_data_3)\n",
        "model_3_evaluation"
      ],
      "execution_count": 88,
      "outputs": [
        {
          "output_type": "stream",
          "text": [
            "95/95 [==============================] - 143s 1s/step - loss: 0.4507 - accuracy: 0.7975\n"
          ],
          "name": "stdout"
        },
        {
          "output_type": "execute_result",
          "data": {
            "text/plain": [
              "[0.4507484436035156, 0.7974933981895447]"
            ]
          },
          "metadata": {
            "tags": []
          },
          "execution_count": 88
        }
      ]
    },
    {
      "cell_type": "code",
      "metadata": {
        "id": "lGGQXfyS4Ncj",
        "outputId": "e5ad7f80-e53b-4811-bfe6-2604ce29e76b",
        "colab": {
          "base_uri": "https://localhost:8080/"
        }
      },
      "source": [
        "model_4_evaluation = model_4.evaluate(test_data_4)\n",
        "model_4_evaluation"
      ],
      "execution_count": 89,
      "outputs": [
        {
          "output_type": "stream",
          "text": [
            "95/95 [==============================] - 130s 1s/step - loss: 0.4994 - accuracy: 0.7820\n"
          ],
          "name": "stdout"
        },
        {
          "output_type": "execute_result",
          "data": {
            "text/plain": [
              "[0.4993900954723358, 0.7819920778274536]"
            ]
          },
          "metadata": {
            "tags": []
          },
          "execution_count": 89
        }
      ]
    },
    {
      "cell_type": "code",
      "metadata": {
        "id": "w-gDLRYD4PV1",
        "outputId": "2263ae5d-2cbb-451c-88e0-6a7510d01ee3",
        "colab": {
          "base_uri": "https://localhost:8080/"
        }
      },
      "source": [
        "model_5_evaluation = model_5.evaluate(test_data_5)\n",
        "model_5_evaluation"
      ],
      "execution_count": 90,
      "outputs": [
        {
          "output_type": "stream",
          "text": [
            "95/95 [==============================] - 211s 2s/step - loss: 0.3138 - accuracy: 0.8898\n"
          ],
          "name": "stdout"
        },
        {
          "output_type": "execute_result",
          "data": {
            "text/plain": [
              "[0.3138044774532318, 0.8898416757583618]"
            ]
          },
          "metadata": {
            "tags": []
          },
          "execution_count": 90
        }
      ]
    },
    {
      "cell_type": "code",
      "metadata": {
        "id": "LdJvEVFE4RR-",
        "outputId": "0411c3bd-074d-4250-b27d-20950ba2e71d",
        "colab": {
          "base_uri": "https://localhost:8080/"
        }
      },
      "source": [
        "model_6_evaluation = model_6.evaluate(test_data_6)\n",
        "model_6_evaluation"
      ],
      "execution_count": 91,
      "outputs": [
        {
          "output_type": "stream",
          "text": [
            "95/95 [==============================] - 211s 2s/step - loss: 0.3057 - accuracy: 0.8872\n"
          ],
          "name": "stdout"
        },
        {
          "output_type": "execute_result",
          "data": {
            "text/plain": [
              "[0.3056759536266327, 0.8872031569480896]"
            ]
          },
          "metadata": {
            "tags": []
          },
          "execution_count": 91
        }
      ]
    },
    {
      "cell_type": "code",
      "metadata": {
        "id": "sWIzEa9A4TGb",
        "outputId": "7c66b515-0616-4150-e884-297710362361",
        "colab": {
          "base_uri": "https://localhost:8080/"
        }
      },
      "source": [
        "model_7_evaluation = model_7.evaluate(test_data_7)\n",
        "model_7_evaluation"
      ],
      "execution_count": 92,
      "outputs": [
        {
          "output_type": "stream",
          "text": [
            "95/95 [==============================] - 566s 6s/step - loss: 0.3400 - accuracy: 0.8727\n"
          ],
          "name": "stdout"
        },
        {
          "output_type": "execute_result",
          "data": {
            "text/plain": [
              "[0.3400476276874542, 0.87269127368927]"
            ]
          },
          "metadata": {
            "tags": []
          },
          "execution_count": 0
        }
      ]
    },
    {
      "cell_type": "code",
      "metadata": {
        "id": "b_WGr2An4U_D",
        "outputId": "d92ebcea-ca0d-41f9-8c3e-d9e65e52c159",
        "colab": {
          "base_uri": "https://localhost:8080/"
        }
      },
      "source": [
        "model_8_evaluation = model_8.evaluate(test_data_8)\n",
        "model_8_evaluation"
      ],
      "execution_count": 93,
      "outputs": [
        {
          "output_type": "stream",
          "text": [
            "95/95 [==============================] - 571s 6s/step - loss: 0.5322 - accuracy: 0.8414\n"
          ],
          "name": "stdout"
        },
        {
          "output_type": "execute_result",
          "data": {
            "text/plain": [
              "[0.5322295427322388, 0.8413588404655457]"
            ]
          },
          "metadata": {
            "tags": []
          },
          "execution_count": 93
        }
      ]
    },
    {
      "cell_type": "code",
      "metadata": {
        "id": "TfA3CF6O4XM9",
        "outputId": "5370eb3c-10a9-42b9-b016-9df40a9f1014",
        "colab": {
          "base_uri": "https://localhost:8080/"
        }
      },
      "source": [
        "model_9_evaluation = model_9.evaluate(test_data_9)\n",
        "model_9_evaluation"
      ],
      "execution_count": 94,
      "outputs": [
        {
          "output_type": "stream",
          "text": [
            "95/95 [==============================] - 495s 5s/step - loss: 0.4414 - accuracy: 0.8542\n"
          ],
          "name": "stdout"
        },
        {
          "output_type": "execute_result",
          "data": {
            "text/plain": [
              "[0.44137129187583923, 0.8542216420173645]"
            ]
          },
          "metadata": {
            "tags": []
          },
          "execution_count": 94
        }
      ]
    },
    {
      "cell_type": "code",
      "metadata": {
        "id": "5QQS5L3S4ZOT",
        "outputId": "dc877ae2-d55f-4f56-eb23-e19a5d683932",
        "colab": {
          "base_uri": "https://localhost:8080/"
        }
      },
      "source": [
        "model_10_evaluation = model_10.evaluate(test_data_10)\n",
        "model_10_evaluation"
      ],
      "execution_count": 95,
      "outputs": [
        {
          "output_type": "stream",
          "text": [
            "95/95 [==============================] - 493s 5s/step - loss: 0.3871 - accuracy: 0.8592\n"
          ],
          "name": "stdout"
        },
        {
          "output_type": "execute_result",
          "data": {
            "text/plain": [
              "[0.38706257939338684, 0.8591688871383667]"
            ]
          },
          "metadata": {
            "tags": []
          },
          "execution_count": 95
        }
      ]
    }
  ]
}